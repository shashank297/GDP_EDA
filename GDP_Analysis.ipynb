{
  "nbformat": 4,
  "nbformat_minor": 0,
  "metadata": {
    "colab": {
      "provenance": [],
      "include_colab_link": true
    },
    "kernelspec": {
      "name": "python3",
      "display_name": "Python 3"
    },
    "language_info": {
      "name": "python"
    }
  },
  "cells": [
    {
      "cell_type": "markdown",
      "metadata": {
        "id": "view-in-github",
        "colab_type": "text"
      },
      "source": [
        "<a href=\"https://colab.research.google.com/github/shashank297/GDP_EDA/blob/main/GDP_Analysis.ipynb\" target=\"_parent\"><img src=\"https://colab.research.google.com/assets/colab-badge.svg\" alt=\"Open In Colab\"/></a>"
      ]
    },
    {
      "cell_type": "markdown",
      "source": [
        "## Download the dataset from this [link](https://www.kaggle.com/datasets/rajkumarpandey02/list-of-countries-by-gdp-sector-composition). You can find the dataset description there itself. Read it carefully and answer the questions below\n",
        "\n",
        "**Make sure you write necessary Python code and use necessary visuals to support your answer**\n"
      ],
      "metadata": {
        "id": "1Psc_I0VaUdQ"
      }
    },
    {
      "cell_type": "markdown",
      "source": [
        "# Column metadata\n",
        "`Rank`: The rank of the country/economy based on its GDP.\n",
        "\n",
        "`Country/Economy`: The name of the country or economy.\n",
        "\n",
        "`GDP (millions of $)`: The gross domestic product (GDP) of the country or economy, measured in millions of dollars.\n",
        "\n",
        "`Agriculture GDP`: The GDP contribution of the agriculture sector in the country or economy.\n",
        "\n",
        "`Agr_Rank`: The rank of the country or economy based on its agriculture GDP.\n",
        "\n",
        "`agr_% of GDP`: The percentage of GDP contributed by the agriculture sector.\n",
        "\n",
        "`Industry`: The GDP contribution of the industry sector in the country or economy.\n",
        "\n",
        "`Ind_Rank`: The rank of the country or economy based on its industry GDP.\n",
        "\n",
        "`Ind_% of GDP`: The percentage of GDP contributed by the industry sector.\n",
        "\n",
        "`Services`: The GDP contribution of the services sector in the country or economy.\n",
        "\n",
        "`Services_Rank`: The rank of the country or economy based on its services GDP.\n",
        "\n",
        "`Services_% of GDP`: The percentage of GDP contributed by the services sector.\n",
        "\n",
        "`Year GDP`: The year in which the GDP data was recorded.\n",
        "\n",
        "`Year Sector`: The year in which the sector-specific data was recorded.\n"
      ],
      "metadata": {
        "id": "SDrBkRD36cVd"
      }
    },
    {
      "cell_type": "code",
      "source": [
        "import pandas as pd\n",
        "import numpy as np\n",
        "from google.colab import drive"
      ],
      "metadata": {
        "id": "4Jk_mCiPaY80"
      },
      "execution_count": 348,
      "outputs": []
    },
    {
      "cell_type": "code",
      "source": [
        "drive.mount('/drive')\n",
        "df=pd.read_csv('/drive/My Drive/Data set masai/List of Countries by GDP Sector Composition.csv')\n",
        "df=df.rename(columns={'Unnamed: 5':'Agr_Rank','Unnamed: 6':'agr_% of GDP','Unnamed: 8':'Ind_Rank','Unnamed: 9':'Ind_% of GDP','Unnamed: 11':'Services_Rank','Unnamed: 12':'Services_% of GDP'})\n",
        "df.drop(index=0,inplace=True)"
      ],
      "metadata": {
        "colab": {
          "base_uri": "https://localhost:8080/"
        },
        "id": "myFu0U9zzlaP",
        "outputId": "9854ba53-e802-42a3-9915-b5ada1290b32"
      },
      "execution_count": 349,
      "outputs": [
        {
          "output_type": "stream",
          "name": "stdout",
          "text": [
            "Drive already mounted at /drive; to attempt to forcibly remount, call drive.mount(\"/drive\", force_remount=True).\n"
          ]
        }
      ]
    },
    {
      "cell_type": "code",
      "source": [
        "df.drop(columns=['Index Number '],inplace=True)"
      ],
      "metadata": {
        "id": "qop_bIZDPjhE"
      },
      "execution_count": 350,
      "outputs": []
    },
    {
      "cell_type": "code",
      "source": [
        "df"
      ],
      "metadata": {
        "colab": {
          "base_uri": "https://localhost:8080/",
          "height": 520
        },
        "id": "E1NSkviqJ6g-",
        "outputId": "45d28692-e907-47b8-d20b-77784fa56528"
      },
      "execution_count": 351,
      "outputs": [
        {
          "output_type": "execute_result",
          "data": {
            "text/plain": [
              "    Rank                                Country/Economy GDP (millions of $)  \\\n",
              "1      1                                  United States            19360000   \n",
              "2      2                                          China            11940000   \n",
              "3      3                                          Japan             4884000   \n",
              "4      4                                        Germany             3652000   \n",
              "5      5                                         France             2575000   \n",
              "..   ...                                            ...                 ...   \n",
              "226    -  Saint Helena, Ascension, and Tristan da Cunha                   -   \n",
              "227    -                                        Tokelau                   -   \n",
              "228    -                       Turks and Caicos Islands                   -   \n",
              "229    -                              Wallis and Futuna                   -   \n",
              "230    -                                 Western Sahara                   -   \n",
              "\n",
              "    Agriculture GDP Agr_Rank agr_% of GDP Industry Ind_Rank Ind_% of GDP  \\\n",
              "1            174240        3          0.9  3659040        2         18.9   \n",
              "2            991020        1          8.3  4716300        1         39.5   \n",
              "3             48840       13            1  1450548        3         29.7   \n",
              "4             21912       31          0.6  1099252        4         30.1   \n",
              "5             51500       11            2   517575        7         20.1   \n",
              "..              ...      ...          ...      ...      ...          ...   \n",
              "226               -        -            -        -        -            -   \n",
              "227               -        -            -        -        -            -   \n",
              "228               -        -          0.5        -        -          8.9   \n",
              "229               -        -            -        -        -            -   \n",
              "230               -        -            -        -        -            -   \n",
              "\n",
              "     Services Services_Rank Services_% of GDP Year GDP  Year Sector  \n",
              "1    15526720             1              80.2      2017        2017  \n",
              "2     6232680             2              52.2      2017        2017  \n",
              "3     3384612             3              69.3      2017        2017  \n",
              "4     2530836             4              69.3      2016        2017  \n",
              "5     2005925             6              77.9      2017        2017  \n",
              "..        ...           ...               ...       ...         ...  \n",
              "226         -             -                 -         -           -  \n",
              "227         -             -                 -         -           -  \n",
              "228         -             -              90.6         -        2017  \n",
              "229         -             -                 -         -           -  \n",
              "230         -             -                40         -        2007  \n",
              "\n",
              "[230 rows x 14 columns]"
            ],
            "text/html": [
              "\n",
              "  <div id=\"df-5de126f5-3917-43ee-b914-e3e50e404312\">\n",
              "    <div class=\"colab-df-container\">\n",
              "      <div>\n",
              "<style scoped>\n",
              "    .dataframe tbody tr th:only-of-type {\n",
              "        vertical-align: middle;\n",
              "    }\n",
              "\n",
              "    .dataframe tbody tr th {\n",
              "        vertical-align: top;\n",
              "    }\n",
              "\n",
              "    .dataframe thead th {\n",
              "        text-align: right;\n",
              "    }\n",
              "</style>\n",
              "<table border=\"1\" class=\"dataframe\">\n",
              "  <thead>\n",
              "    <tr style=\"text-align: right;\">\n",
              "      <th></th>\n",
              "      <th>Rank</th>\n",
              "      <th>Country/Economy</th>\n",
              "      <th>GDP (millions of $)</th>\n",
              "      <th>Agriculture GDP</th>\n",
              "      <th>Agr_Rank</th>\n",
              "      <th>agr_% of GDP</th>\n",
              "      <th>Industry</th>\n",
              "      <th>Ind_Rank</th>\n",
              "      <th>Ind_% of GDP</th>\n",
              "      <th>Services</th>\n",
              "      <th>Services_Rank</th>\n",
              "      <th>Services_% of GDP</th>\n",
              "      <th>Year GDP</th>\n",
              "      <th>Year Sector</th>\n",
              "    </tr>\n",
              "  </thead>\n",
              "  <tbody>\n",
              "    <tr>\n",
              "      <th>1</th>\n",
              "      <td>1</td>\n",
              "      <td>United States</td>\n",
              "      <td>19360000</td>\n",
              "      <td>174240</td>\n",
              "      <td>3</td>\n",
              "      <td>0.9</td>\n",
              "      <td>3659040</td>\n",
              "      <td>2</td>\n",
              "      <td>18.9</td>\n",
              "      <td>15526720</td>\n",
              "      <td>1</td>\n",
              "      <td>80.2</td>\n",
              "      <td>2017</td>\n",
              "      <td>2017</td>\n",
              "    </tr>\n",
              "    <tr>\n",
              "      <th>2</th>\n",
              "      <td>2</td>\n",
              "      <td>China</td>\n",
              "      <td>11940000</td>\n",
              "      <td>991020</td>\n",
              "      <td>1</td>\n",
              "      <td>8.3</td>\n",
              "      <td>4716300</td>\n",
              "      <td>1</td>\n",
              "      <td>39.5</td>\n",
              "      <td>6232680</td>\n",
              "      <td>2</td>\n",
              "      <td>52.2</td>\n",
              "      <td>2017</td>\n",
              "      <td>2017</td>\n",
              "    </tr>\n",
              "    <tr>\n",
              "      <th>3</th>\n",
              "      <td>3</td>\n",
              "      <td>Japan</td>\n",
              "      <td>4884000</td>\n",
              "      <td>48840</td>\n",
              "      <td>13</td>\n",
              "      <td>1</td>\n",
              "      <td>1450548</td>\n",
              "      <td>3</td>\n",
              "      <td>29.7</td>\n",
              "      <td>3384612</td>\n",
              "      <td>3</td>\n",
              "      <td>69.3</td>\n",
              "      <td>2017</td>\n",
              "      <td>2017</td>\n",
              "    </tr>\n",
              "    <tr>\n",
              "      <th>4</th>\n",
              "      <td>4</td>\n",
              "      <td>Germany</td>\n",
              "      <td>3652000</td>\n",
              "      <td>21912</td>\n",
              "      <td>31</td>\n",
              "      <td>0.6</td>\n",
              "      <td>1099252</td>\n",
              "      <td>4</td>\n",
              "      <td>30.1</td>\n",
              "      <td>2530836</td>\n",
              "      <td>4</td>\n",
              "      <td>69.3</td>\n",
              "      <td>2016</td>\n",
              "      <td>2017</td>\n",
              "    </tr>\n",
              "    <tr>\n",
              "      <th>5</th>\n",
              "      <td>5</td>\n",
              "      <td>France</td>\n",
              "      <td>2575000</td>\n",
              "      <td>51500</td>\n",
              "      <td>11</td>\n",
              "      <td>2</td>\n",
              "      <td>517575</td>\n",
              "      <td>7</td>\n",
              "      <td>20.1</td>\n",
              "      <td>2005925</td>\n",
              "      <td>6</td>\n",
              "      <td>77.9</td>\n",
              "      <td>2017</td>\n",
              "      <td>2017</td>\n",
              "    </tr>\n",
              "    <tr>\n",
              "      <th>...</th>\n",
              "      <td>...</td>\n",
              "      <td>...</td>\n",
              "      <td>...</td>\n",
              "      <td>...</td>\n",
              "      <td>...</td>\n",
              "      <td>...</td>\n",
              "      <td>...</td>\n",
              "      <td>...</td>\n",
              "      <td>...</td>\n",
              "      <td>...</td>\n",
              "      <td>...</td>\n",
              "      <td>...</td>\n",
              "      <td>...</td>\n",
              "      <td>...</td>\n",
              "    </tr>\n",
              "    <tr>\n",
              "      <th>226</th>\n",
              "      <td>-</td>\n",
              "      <td>Saint Helena, Ascension, and Tristan da Cunha</td>\n",
              "      <td>-</td>\n",
              "      <td>-</td>\n",
              "      <td>-</td>\n",
              "      <td>-</td>\n",
              "      <td>-</td>\n",
              "      <td>-</td>\n",
              "      <td>-</td>\n",
              "      <td>-</td>\n",
              "      <td>-</td>\n",
              "      <td>-</td>\n",
              "      <td>-</td>\n",
              "      <td>-</td>\n",
              "    </tr>\n",
              "    <tr>\n",
              "      <th>227</th>\n",
              "      <td>-</td>\n",
              "      <td>Tokelau</td>\n",
              "      <td>-</td>\n",
              "      <td>-</td>\n",
              "      <td>-</td>\n",
              "      <td>-</td>\n",
              "      <td>-</td>\n",
              "      <td>-</td>\n",
              "      <td>-</td>\n",
              "      <td>-</td>\n",
              "      <td>-</td>\n",
              "      <td>-</td>\n",
              "      <td>-</td>\n",
              "      <td>-</td>\n",
              "    </tr>\n",
              "    <tr>\n",
              "      <th>228</th>\n",
              "      <td>-</td>\n",
              "      <td>Turks and Caicos Islands</td>\n",
              "      <td>-</td>\n",
              "      <td>-</td>\n",
              "      <td>-</td>\n",
              "      <td>0.5</td>\n",
              "      <td>-</td>\n",
              "      <td>-</td>\n",
              "      <td>8.9</td>\n",
              "      <td>-</td>\n",
              "      <td>-</td>\n",
              "      <td>90.6</td>\n",
              "      <td>-</td>\n",
              "      <td>2017</td>\n",
              "    </tr>\n",
              "    <tr>\n",
              "      <th>229</th>\n",
              "      <td>-</td>\n",
              "      <td>Wallis and Futuna</td>\n",
              "      <td>-</td>\n",
              "      <td>-</td>\n",
              "      <td>-</td>\n",
              "      <td>-</td>\n",
              "      <td>-</td>\n",
              "      <td>-</td>\n",
              "      <td>-</td>\n",
              "      <td>-</td>\n",
              "      <td>-</td>\n",
              "      <td>-</td>\n",
              "      <td>-</td>\n",
              "      <td>-</td>\n",
              "    </tr>\n",
              "    <tr>\n",
              "      <th>230</th>\n",
              "      <td>-</td>\n",
              "      <td>Western Sahara</td>\n",
              "      <td>-</td>\n",
              "      <td>-</td>\n",
              "      <td>-</td>\n",
              "      <td>-</td>\n",
              "      <td>-</td>\n",
              "      <td>-</td>\n",
              "      <td>-</td>\n",
              "      <td>-</td>\n",
              "      <td>-</td>\n",
              "      <td>40</td>\n",
              "      <td>-</td>\n",
              "      <td>2007</td>\n",
              "    </tr>\n",
              "  </tbody>\n",
              "</table>\n",
              "<p>230 rows × 14 columns</p>\n",
              "</div>\n",
              "      <button class=\"colab-df-convert\" onclick=\"convertToInteractive('df-5de126f5-3917-43ee-b914-e3e50e404312')\"\n",
              "              title=\"Convert this dataframe to an interactive table.\"\n",
              "              style=\"display:none;\">\n",
              "        \n",
              "  <svg xmlns=\"http://www.w3.org/2000/svg\" height=\"24px\"viewBox=\"0 0 24 24\"\n",
              "       width=\"24px\">\n",
              "    <path d=\"M0 0h24v24H0V0z\" fill=\"none\"/>\n",
              "    <path d=\"M18.56 5.44l.94 2.06.94-2.06 2.06-.94-2.06-.94-.94-2.06-.94 2.06-2.06.94zm-11 1L8.5 8.5l.94-2.06 2.06-.94-2.06-.94L8.5 2.5l-.94 2.06-2.06.94zm10 10l.94 2.06.94-2.06 2.06-.94-2.06-.94-.94-2.06-.94 2.06-2.06.94z\"/><path d=\"M17.41 7.96l-1.37-1.37c-.4-.4-.92-.59-1.43-.59-.52 0-1.04.2-1.43.59L10.3 9.45l-7.72 7.72c-.78.78-.78 2.05 0 2.83L4 21.41c.39.39.9.59 1.41.59.51 0 1.02-.2 1.41-.59l7.78-7.78 2.81-2.81c.8-.78.8-2.07 0-2.86zM5.41 20L4 18.59l7.72-7.72 1.47 1.35L5.41 20z\"/>\n",
              "  </svg>\n",
              "      </button>\n",
              "      \n",
              "  <style>\n",
              "    .colab-df-container {\n",
              "      display:flex;\n",
              "      flex-wrap:wrap;\n",
              "      gap: 12px;\n",
              "    }\n",
              "\n",
              "    .colab-df-convert {\n",
              "      background-color: #E8F0FE;\n",
              "      border: none;\n",
              "      border-radius: 50%;\n",
              "      cursor: pointer;\n",
              "      display: none;\n",
              "      fill: #1967D2;\n",
              "      height: 32px;\n",
              "      padding: 0 0 0 0;\n",
              "      width: 32px;\n",
              "    }\n",
              "\n",
              "    .colab-df-convert:hover {\n",
              "      background-color: #E2EBFA;\n",
              "      box-shadow: 0px 1px 2px rgba(60, 64, 67, 0.3), 0px 1px 3px 1px rgba(60, 64, 67, 0.15);\n",
              "      fill: #174EA6;\n",
              "    }\n",
              "\n",
              "    [theme=dark] .colab-df-convert {\n",
              "      background-color: #3B4455;\n",
              "      fill: #D2E3FC;\n",
              "    }\n",
              "\n",
              "    [theme=dark] .colab-df-convert:hover {\n",
              "      background-color: #434B5C;\n",
              "      box-shadow: 0px 1px 3px 1px rgba(0, 0, 0, 0.15);\n",
              "      filter: drop-shadow(0px 1px 2px rgba(0, 0, 0, 0.3));\n",
              "      fill: #FFFFFF;\n",
              "    }\n",
              "  </style>\n",
              "\n",
              "      <script>\n",
              "        const buttonEl =\n",
              "          document.querySelector('#df-5de126f5-3917-43ee-b914-e3e50e404312 button.colab-df-convert');\n",
              "        buttonEl.style.display =\n",
              "          google.colab.kernel.accessAllowed ? 'block' : 'none';\n",
              "\n",
              "        async function convertToInteractive(key) {\n",
              "          const element = document.querySelector('#df-5de126f5-3917-43ee-b914-e3e50e404312');\n",
              "          const dataTable =\n",
              "            await google.colab.kernel.invokeFunction('convertToInteractive',\n",
              "                                                     [key], {});\n",
              "          if (!dataTable) return;\n",
              "\n",
              "          const docLinkHtml = 'Like what you see? Visit the ' +\n",
              "            '<a target=\"_blank\" href=https://colab.research.google.com/notebooks/data_table.ipynb>data table notebook</a>'\n",
              "            + ' to learn more about interactive tables.';\n",
              "          element.innerHTML = '';\n",
              "          dataTable['output_type'] = 'display_data';\n",
              "          await google.colab.output.renderOutput(dataTable, element);\n",
              "          const docLink = document.createElement('div');\n",
              "          docLink.innerHTML = docLinkHtml;\n",
              "          element.appendChild(docLink);\n",
              "        }\n",
              "      </script>\n",
              "    </div>\n",
              "  </div>\n",
              "  "
            ]
          },
          "metadata": {},
          "execution_count": 351
        }
      ]
    },
    {
      "cell_type": "code",
      "source": [
        "df.replace({'-':np.nan},inplace=True)"
      ],
      "metadata": {
        "id": "RPqzNw3EKlRu"
      },
      "execution_count": 352,
      "outputs": []
    },
    {
      "cell_type": "markdown",
      "source": [
        "#### Find out the dataset dimensions"
      ],
      "metadata": {
        "id": "ZoEbAgl6afkA"
      }
    },
    {
      "cell_type": "code",
      "source": [
        "df.shape"
      ],
      "metadata": {
        "id": "P4GdB1NDaebK",
        "colab": {
          "base_uri": "https://localhost:8080/"
        },
        "outputId": "02a24044-dadc-4309-e6f3-76bb83bc2de9"
      },
      "execution_count": 353,
      "outputs": [
        {
          "output_type": "execute_result",
          "data": {
            "text/plain": [
              "(230, 14)"
            ]
          },
          "metadata": {},
          "execution_count": 353
        }
      ]
    },
    {
      "cell_type": "markdown",
      "source": [
        "#### Find out statistical summary of the Dataset"
      ],
      "metadata": {
        "id": "VLBz82xUaj4f"
      }
    },
    {
      "cell_type": "code",
      "source": [
        "df.describe()"
      ],
      "metadata": {
        "id": "WvwXgvsIajDs",
        "colab": {
          "base_uri": "https://localhost:8080/",
          "height": 254
        },
        "outputId": "f8443ea8-dd8a-4515-dff2-07e5defc932b"
      },
      "execution_count": 354,
      "outputs": [
        {
          "output_type": "execute_result",
          "data": {
            "text/plain": [
              "       Rank Country/Economy GDP (millions of $) Agriculture GDP Agr_Rank  \\\n",
              "count   224             230                 224             218      218   \n",
              "unique  224             230                 224             207      218   \n",
              "top       1   United States            19360000              10        3   \n",
              "freq      1               1                   1               5        1   \n",
              "\n",
              "       agr_% of GDP Industry Ind_Rank Ind_% of GDP Services Services_Rank  \\\n",
              "count           224      220      220          223      221           221   \n",
              "unique          149      216      220          171      219           221   \n",
              "top               1     1036        2         27.8      557             1   \n",
              "freq              5        2        1            4        2             1   \n",
              "\n",
              "       Services_% of GDP Year GDP  Year Sector  \n",
              "count                224       224         225  \n",
              "unique               177        10          16  \n",
              "top                 74.2      2017        2017  \n",
              "freq                   4       189         184  "
            ],
            "text/html": [
              "\n",
              "  <div id=\"df-97145b16-d86d-4d60-b844-4ac44031b653\">\n",
              "    <div class=\"colab-df-container\">\n",
              "      <div>\n",
              "<style scoped>\n",
              "    .dataframe tbody tr th:only-of-type {\n",
              "        vertical-align: middle;\n",
              "    }\n",
              "\n",
              "    .dataframe tbody tr th {\n",
              "        vertical-align: top;\n",
              "    }\n",
              "\n",
              "    .dataframe thead th {\n",
              "        text-align: right;\n",
              "    }\n",
              "</style>\n",
              "<table border=\"1\" class=\"dataframe\">\n",
              "  <thead>\n",
              "    <tr style=\"text-align: right;\">\n",
              "      <th></th>\n",
              "      <th>Rank</th>\n",
              "      <th>Country/Economy</th>\n",
              "      <th>GDP (millions of $)</th>\n",
              "      <th>Agriculture GDP</th>\n",
              "      <th>Agr_Rank</th>\n",
              "      <th>agr_% of GDP</th>\n",
              "      <th>Industry</th>\n",
              "      <th>Ind_Rank</th>\n",
              "      <th>Ind_% of GDP</th>\n",
              "      <th>Services</th>\n",
              "      <th>Services_Rank</th>\n",
              "      <th>Services_% of GDP</th>\n",
              "      <th>Year GDP</th>\n",
              "      <th>Year Sector</th>\n",
              "    </tr>\n",
              "  </thead>\n",
              "  <tbody>\n",
              "    <tr>\n",
              "      <th>count</th>\n",
              "      <td>224</td>\n",
              "      <td>230</td>\n",
              "      <td>224</td>\n",
              "      <td>218</td>\n",
              "      <td>218</td>\n",
              "      <td>224</td>\n",
              "      <td>220</td>\n",
              "      <td>220</td>\n",
              "      <td>223</td>\n",
              "      <td>221</td>\n",
              "      <td>221</td>\n",
              "      <td>224</td>\n",
              "      <td>224</td>\n",
              "      <td>225</td>\n",
              "    </tr>\n",
              "    <tr>\n",
              "      <th>unique</th>\n",
              "      <td>224</td>\n",
              "      <td>230</td>\n",
              "      <td>224</td>\n",
              "      <td>207</td>\n",
              "      <td>218</td>\n",
              "      <td>149</td>\n",
              "      <td>216</td>\n",
              "      <td>220</td>\n",
              "      <td>171</td>\n",
              "      <td>219</td>\n",
              "      <td>221</td>\n",
              "      <td>177</td>\n",
              "      <td>10</td>\n",
              "      <td>16</td>\n",
              "    </tr>\n",
              "    <tr>\n",
              "      <th>top</th>\n",
              "      <td>1</td>\n",
              "      <td>United States</td>\n",
              "      <td>19360000</td>\n",
              "      <td>10</td>\n",
              "      <td>3</td>\n",
              "      <td>1</td>\n",
              "      <td>1036</td>\n",
              "      <td>2</td>\n",
              "      <td>27.8</td>\n",
              "      <td>557</td>\n",
              "      <td>1</td>\n",
              "      <td>74.2</td>\n",
              "      <td>2017</td>\n",
              "      <td>2017</td>\n",
              "    </tr>\n",
              "    <tr>\n",
              "      <th>freq</th>\n",
              "      <td>1</td>\n",
              "      <td>1</td>\n",
              "      <td>1</td>\n",
              "      <td>5</td>\n",
              "      <td>1</td>\n",
              "      <td>5</td>\n",
              "      <td>2</td>\n",
              "      <td>1</td>\n",
              "      <td>4</td>\n",
              "      <td>2</td>\n",
              "      <td>1</td>\n",
              "      <td>4</td>\n",
              "      <td>189</td>\n",
              "      <td>184</td>\n",
              "    </tr>\n",
              "  </tbody>\n",
              "</table>\n",
              "</div>\n",
              "      <button class=\"colab-df-convert\" onclick=\"convertToInteractive('df-97145b16-d86d-4d60-b844-4ac44031b653')\"\n",
              "              title=\"Convert this dataframe to an interactive table.\"\n",
              "              style=\"display:none;\">\n",
              "        \n",
              "  <svg xmlns=\"http://www.w3.org/2000/svg\" height=\"24px\"viewBox=\"0 0 24 24\"\n",
              "       width=\"24px\">\n",
              "    <path d=\"M0 0h24v24H0V0z\" fill=\"none\"/>\n",
              "    <path d=\"M18.56 5.44l.94 2.06.94-2.06 2.06-.94-2.06-.94-.94-2.06-.94 2.06-2.06.94zm-11 1L8.5 8.5l.94-2.06 2.06-.94-2.06-.94L8.5 2.5l-.94 2.06-2.06.94zm10 10l.94 2.06.94-2.06 2.06-.94-2.06-.94-.94-2.06-.94 2.06-2.06.94z\"/><path d=\"M17.41 7.96l-1.37-1.37c-.4-.4-.92-.59-1.43-.59-.52 0-1.04.2-1.43.59L10.3 9.45l-7.72 7.72c-.78.78-.78 2.05 0 2.83L4 21.41c.39.39.9.59 1.41.59.51 0 1.02-.2 1.41-.59l7.78-7.78 2.81-2.81c.8-.78.8-2.07 0-2.86zM5.41 20L4 18.59l7.72-7.72 1.47 1.35L5.41 20z\"/>\n",
              "  </svg>\n",
              "      </button>\n",
              "      \n",
              "  <style>\n",
              "    .colab-df-container {\n",
              "      display:flex;\n",
              "      flex-wrap:wrap;\n",
              "      gap: 12px;\n",
              "    }\n",
              "\n",
              "    .colab-df-convert {\n",
              "      background-color: #E8F0FE;\n",
              "      border: none;\n",
              "      border-radius: 50%;\n",
              "      cursor: pointer;\n",
              "      display: none;\n",
              "      fill: #1967D2;\n",
              "      height: 32px;\n",
              "      padding: 0 0 0 0;\n",
              "      width: 32px;\n",
              "    }\n",
              "\n",
              "    .colab-df-convert:hover {\n",
              "      background-color: #E2EBFA;\n",
              "      box-shadow: 0px 1px 2px rgba(60, 64, 67, 0.3), 0px 1px 3px 1px rgba(60, 64, 67, 0.15);\n",
              "      fill: #174EA6;\n",
              "    }\n",
              "\n",
              "    [theme=dark] .colab-df-convert {\n",
              "      background-color: #3B4455;\n",
              "      fill: #D2E3FC;\n",
              "    }\n",
              "\n",
              "    [theme=dark] .colab-df-convert:hover {\n",
              "      background-color: #434B5C;\n",
              "      box-shadow: 0px 1px 3px 1px rgba(0, 0, 0, 0.15);\n",
              "      filter: drop-shadow(0px 1px 2px rgba(0, 0, 0, 0.3));\n",
              "      fill: #FFFFFF;\n",
              "    }\n",
              "  </style>\n",
              "\n",
              "      <script>\n",
              "        const buttonEl =\n",
              "          document.querySelector('#df-97145b16-d86d-4d60-b844-4ac44031b653 button.colab-df-convert');\n",
              "        buttonEl.style.display =\n",
              "          google.colab.kernel.accessAllowed ? 'block' : 'none';\n",
              "\n",
              "        async function convertToInteractive(key) {\n",
              "          const element = document.querySelector('#df-97145b16-d86d-4d60-b844-4ac44031b653');\n",
              "          const dataTable =\n",
              "            await google.colab.kernel.invokeFunction('convertToInteractive',\n",
              "                                                     [key], {});\n",
              "          if (!dataTable) return;\n",
              "\n",
              "          const docLinkHtml = 'Like what you see? Visit the ' +\n",
              "            '<a target=\"_blank\" href=https://colab.research.google.com/notebooks/data_table.ipynb>data table notebook</a>'\n",
              "            + ' to learn more about interactive tables.';\n",
              "          element.innerHTML = '';\n",
              "          dataTable['output_type'] = 'display_data';\n",
              "          await google.colab.output.renderOutput(dataTable, element);\n",
              "          const docLink = document.createElement('div');\n",
              "          docLink.innerHTML = docLinkHtml;\n",
              "          element.appendChild(docLink);\n",
              "        }\n",
              "      </script>\n",
              "    </div>\n",
              "  </div>\n",
              "  "
            ]
          },
          "metadata": {},
          "execution_count": 354
        }
      ]
    },
    {
      "cell_type": "markdown",
      "source": [
        "#### Check for the null values in Dataset"
      ],
      "metadata": {
        "id": "ceeqUppeaom1"
      }
    },
    {
      "cell_type": "code",
      "source": [
        "df.isnull().sum()"
      ],
      "metadata": {
        "id": "gPSTqBPUaedj",
        "colab": {
          "base_uri": "https://localhost:8080/"
        },
        "outputId": "0e693a26-5dd4-4347-82b0-17e606816068"
      },
      "execution_count": 355,
      "outputs": [
        {
          "output_type": "execute_result",
          "data": {
            "text/plain": [
              "Rank                    6\n",
              "Country/Economy         0\n",
              "GDP (millions of $)     6\n",
              "Agriculture GDP        12\n",
              "Agr_Rank               12\n",
              "agr_% of GDP            6\n",
              "Industry               10\n",
              "Ind_Rank               10\n",
              "Ind_% of GDP            7\n",
              "Services                9\n",
              "Services_Rank           9\n",
              "Services_% of GDP       6\n",
              "Year GDP                6\n",
              "Year Sector             5\n",
              "dtype: int64"
            ]
          },
          "metadata": {},
          "execution_count": 355
        }
      ]
    },
    {
      "cell_type": "markdown",
      "source": [
        "#### Check for the noise value of the dataset"
      ],
      "metadata": {
        "id": "wqY_T6TqatxJ"
      }
    },
    {
      "cell_type": "code",
      "source": [
        "for i in df.columns:\n",
        "  print(i,df[i].unique())"
      ],
      "metadata": {
        "id": "CXOYoFt9aegJ",
        "colab": {
          "base_uri": "https://localhost:8080/"
        },
        "outputId": "0b41d67d-e16c-48d3-86be-93826f419490"
      },
      "execution_count": 356,
      "outputs": [
        {
          "output_type": "stream",
          "name": "stdout",
          "text": [
            "Rank ['1' '2' '3' '4' '5' '6' '7' '8' '9' '10' '11' '12' '13' '14' '15' '16'\n",
            " '17' '18' '19' '20' '21' '22' '23' '24' '25' '26' '27' '28' '29' '30'\n",
            " '31' '32' '33' '34' '35' '36' '37' '38' '39' '40' '41' '42' '43' '44'\n",
            " '45' '46' '47' '48' '49' '50' '51' '52' '53' '54' '55' '56' '57' '58'\n",
            " '59' '60' '61' '62' '63' '64' '65' '66' '67' '68' '69' '70' '71' '72'\n",
            " '73' '74' '75' '76' '77' '78' '79' '80' '81' '82' '83' '84' '85' '86'\n",
            " '87' '88' '89' '90' '91' '92' '93' '94' '95' '96' '97' '98' '99' '100'\n",
            " '101' '102' '103' '104' '105' '106' '107' '108' '109' '110' '111' '112'\n",
            " '113' '114' '115' '116' '117' '118' '119' '120' '121' '122' '123' '124'\n",
            " '125' '126' '127' '128' '129' '130' '131' '132' '133' '134' '135' '136'\n",
            " '137' '138' '139' '140' '141' '142' '143' '144' '145' '146' '147' '148'\n",
            " '149' '150' '151' '152' '153' '154' '155' '156' '157' '158' '159' '160'\n",
            " '161' '162' '163' '164' '165' '166' '167' '168' '169' '170' '171' '172'\n",
            " '173' '174' '175' '176' '177' '178' '179' '180' '181' '182' '183' '184'\n",
            " '185' '186' '187' '188' '189' '190' '191' '192' '193' '194' '195' '196'\n",
            " '197' '198' '199' '200' '201' '202' '203' '204' '205' '206' '207' '208'\n",
            " '209' '210' '211' '212' '213' '214' '215' '216' '217' '218' '219' '220'\n",
            " '221' '222' '223' '224' nan]\n",
            "Country/Economy ['United States' 'China' 'Japan' 'Germany' 'France' 'United Kingdom'\n",
            " 'India' 'Brazil' 'Italy' 'Canada' 'Korea, South' 'Russia' 'Australia'\n",
            " 'Spain' 'Mexico' 'Indonesia' 'Turkey' 'Netherlands' 'Saudi Arabia'\n",
            " 'Switzerland' 'Argentina' 'Taiwan' 'Sweden' 'Poland' 'Belgium' 'Thailand'\n",
            " 'Iran' 'Austria' 'Nigeria' 'Norway' 'United Arab Emirates' 'Israel'\n",
            " 'South Africa' 'Hong Kong' 'Ireland' 'Denmark' 'Philippines' 'Malaysia'\n",
            " 'Colombia' 'Singapore' 'Pakistan' 'Chile' 'Finland' 'Bangladesh'\n",
            " 'Vietnam' 'Venezuela' 'Portugal' 'Peru' 'Czechia' 'Romania' 'Greece'\n",
            " 'New Zealand' 'Egypt' 'Iraq' 'Algeria' 'Qatar' 'Kazakhstan' 'Hungary'\n",
            " 'Angola' 'Sudan' 'Kuwait' 'Morocco' 'Ukraine' 'Puerto Rico' 'Ecuador'\n",
            " 'Slovakia' 'Cuba' 'Sri Lanka' 'Ethiopia' 'Kenya' 'Dominican Republic'\n",
            " 'Oman' 'Guatemala' 'Uzbekistan' 'Burma' 'Luxembourg' 'Uruguay' 'Panama'\n",
            " 'Costa Rica' 'Bulgaria' 'Croatia' 'Belarus' 'Lebanon' 'Tanzania' 'Macau'\n",
            " 'Slovenia' 'Lithuania' 'Ghana' 'Turkmenistan' 'Jordan'\n",
            " 'Congo, Democratic Republic of the' \"Cote d'Ivoire\" 'Tunisia' 'Serbia'\n",
            " 'Azerbaijan' 'Bolivia' 'Bahrain' 'Libya' 'Cameroon' 'Latvia' 'Paraguay'\n",
            " 'Korea, North' 'El Salvador' 'Uganda' 'Estonia' 'Yemen' 'Zambia'\n",
            " 'Iceland' 'Syria' 'Nepal' 'Honduras' 'Cambodia' 'Cyprus' 'Afghanistan'\n",
            " 'Trinidad and Tobago' 'Papua New Guinea' 'Bosnia and Herzegovina' 'Laos'\n",
            " 'Zimbabwe' 'Botswana' 'Senegal' 'Georgia' 'Mali' 'Jamaica' 'Gabon'\n",
            " 'Nicaragua' 'Burkina Faso' 'Albania' 'Namibia' 'Mozambique' 'Mauritius'\n",
            " 'Malta' 'Brunei' 'Macedonia' 'Armenia' 'Madagascar' 'Mongolia'\n",
            " 'Equatorial Guinea' 'West Bank' 'New Caledonia' 'Chad' 'Benin' 'Guinea'\n",
            " 'Bahamas, The' 'Rwanda' 'Haiti' 'Moldova' 'Congo, Republic of the'\n",
            " 'Niger' 'Tajikistan' 'Kyrgyzstan' 'Isle of Man' 'Kosovo' 'Liechtenstein'\n",
            " 'Somalia' 'Bermuda' 'Eritrea' 'Monaco' 'Guam' 'Curacao' 'Malawi'\n",
            " 'Virgin Islands' 'Fiji' 'Mauritania' 'Jersey' 'Barbados' 'Togo'\n",
            " 'French Polynesia' 'Maldives' 'Montenegro' 'Eswatini' 'Sierra Leone'\n",
            " 'Suriname' 'Guyana' 'Burundi' 'Gaza Strip' 'South Sudan' 'Faroe Islands'\n",
            " 'Guernsey' 'Lesotho' 'Timor-Leste' 'Andorra' 'Aruba' 'Bhutan'\n",
            " 'Cayman Islands' 'Greenland' 'Liberia' 'Djibouti' 'Gibraltar'\n",
            " 'Central African Republic' 'Belize' 'Cabo Verde' 'Saint Lucia'\n",
            " 'San Marino' 'Antigua and Barbuda' 'Seychelles' 'Guinea-Bissau'\n",
            " 'Solomon Islands' 'Northern Mariana Islands' 'Grenada' 'Gambia, The'\n",
            " 'British Virgin Islands' 'Saint Kitts and Nevis' 'Samoa' 'Vanuatu'\n",
            " 'Saint Vincent and the Grenadines' 'Comoros' 'American Samoa' 'Dominica'\n",
            " 'Saint Martin' 'Tonga' 'Sao Tome and Principe'\n",
            " 'Micronesia, Federated States of' 'Palau' 'Sint Maarten' 'Cook Islands'\n",
            " 'Saint Pierre and Miquelon' 'Falkland Islands, (Islas Malvinas)'\n",
            " 'Marshall Islands' 'Kiribati' 'Anguilla' 'Nauru' 'Tuvalu' 'Niue'\n",
            " 'Montserrat' 'Saint Helena, Ascension, and Tristan da Cunha' 'Tokelau'\n",
            " 'Turks and Caicos Islands' 'Wallis and Futuna' 'Western Sahara']\n",
            "GDP (millions of $) ['19360000' '11940000' '4884000' '3652000' '2575000' '2565000' '2439000'\n",
            " '2081000' '1921000' '1640000' '1530000' '1469000' '1390000' '1307000'\n",
            " '1142000' '923300' '841200' '824500' '683700' '680600' '619900' '571500'\n",
            " '541900' '510000' '491700' '437800' '427700' '409300' '394800' '392100'\n",
            " '378700' '348000' '344100' '341400' '325600' '324100' '313400' '309900'\n",
            " '307500' '305800' '278900' '263200' '252500' '246600' '223300' '215300'\n",
            " '211700' '210000' '209700' '204900' '204300' '200800' '193700' '192700'\n",
            " '175500' '166300' '156200' '132000' '124000' '119000' '118300' '110700'\n",
            " '104100' '103200' '100900' '95000' '93790' '83570' '79740' '78290'\n",
            " '74870' '71930' '70810' '67510' '66970' '63520' '60270' '59050' '58910'\n",
            " '55950' '54480' '52780' '52700' '51610' '51160' '48080' '46670' '45460'\n",
            " '41670' '40490' '40420' '39910' '39880' '39370' '39210' '37820' '33870'\n",
            " '33310' '30650' '30180' '28780' '28000' '27410' '26390' '25680' '25670'\n",
            " '25580' '24850' '24600' '24070' '22680' '22250' '21110' '21060' '20300'\n",
            " '20210' '17460' '17150' '17110' '16730' '16060' '15230' '15000' '14720'\n",
            " '14470' '13690' '13190' '13000' '12560' '12350' '12270' '12010' '11960'\n",
            " '11420' '11040' '10910' '10870' '10070' '9828' '9770' '9740' '9410'\n",
            " '9183' '9127' '8918' '8360' '8132' '7799' '7335' '7234' '7061' '6792'\n",
            " '6684' '6672' '6522' '6127' '6050' '6006' '5793' '5600' '5433' '5182'\n",
            " '5054' '4985' '4960' '4821' '4797' '4795' '4648' '4405' '4030' '3897'\n",
            " '3665' '3591' '3393' '2938' '2915' '2765' '2742' '2721' '2716' '2712'\n",
            " '2516' '2321' '2250' '2221' '2140' '2082' '2044' '1992' '1819' '1728'\n",
            " '1717' '1633' '1535' '1479' '1295' '1273' '1242' '1111' '1038' '1028'\n",
            " '939' '844' '837' '815' '659' '658' '608' '562' '437' '343' '329' '321'\n",
            " '304' '300' '261' '206' '199' '186' '175' '114' '40' '10' nan]\n",
            "Agriculture GDP ['174240' '991020' '48840' '21912' '51500' '15390' '375606' '129022'\n",
            " '40341' '27880' '33660' '69043' '50040' '33982' '44538' '128339' '56360'\n",
            " '13192' '17776' '4764' '67569' '10287' '8670' '12240' '3442' '35900'\n",
            " '41915' '4912' '85277' '9410' '3408' '8004' '9635' '341' '3256' '3565'\n",
            " '30086' '26032' '22755' nan '68888' '11581' '6818' '35017' '34165' '9473'\n",
            " '4657' '15750' '5243' '8606' '8172' '7831' '23050' '9250' '23166' '333'\n",
            " '7498' '5808' '12648' '47124' '473' '16384' '14574' '826' '7769' '3610'\n",
            " '3658' '6518' '28547' '27636' '4118' '1223' '9347' '12489' '16609' '127'\n",
            " '3737' '1417' '3240' '2406' '1798' '4381' '3004' '12077' '865' '1540'\n",
            " '8319' '3125' '1741' '8529' '6944' '3948' '3858' '2431' '4917' '102'\n",
            " '433' '7080' '966' '5152' '7112' '2905' '6809' '873' '6186' '1381' '1441'\n",
            " '4920' '6499' '3130' '5629' '486' '4844' '81' '4466' '1362' '3584' '2139'\n",
            " '284' '2714' '1462' '6135' '1119' '651' '2122' '4208' '2938' '829' '2754'\n",
            " '491' '156' '144' '1142' '1954' '2586' '1435' '252' '295' '137' '5747'\n",
            " '2409' '1791' '210' '2756' '1831' '992' '694' '3044' '2069' '1010' '68'\n",
            " '795' '467' '3926' '49' '708' '39' '1527' '104' '536' '1122' '99' '67'\n",
            " '1348' '120' '139' '330' '262' '2365' '425' '628' '1357' '88' '498' '82'\n",
            " '255' '323' '10' '364' '7' '353' '773' '58' '855' '176' '50' '2' '35'\n",
            " '37' '571' '437' '21' '101' '212' '226' '326' '180' '93' '6' '85' '40'\n",
            " '87' '1' '15' '5' '9' '43' '4']\n",
            "Agr_Rank ['3' '1' '13' '31' '11' '36' '2' '4' '17' '25' '22' '7' '12' '21' '15' '5'\n",
            " '10' '38' '32' '77' '9' '44' '50' '41' '91' '18' '16' '75' '6' '47' '92'\n",
            " '55' '45' '157' '93' '90' '23' '27' '30' nan '8' '43' '62' '19' '20' '46'\n",
            " '78' '35' '71' '51' '54' '56' '29' '49' '28' '158' '58' '68' '39' '14'\n",
            " '150' '34' '37' '138' '57' '88' '87' '64' '24' '26' '82' '127' '48' '40'\n",
            " '33' '178' '86' '122' '94' '107' '114' '80' '98' '42' '135' '117' '53'\n",
            " '96' '116' '52' '61' '83' '85' '105' '74' '181' '153' '60' '133' '72'\n",
            " '59' '100' '63' '134' '66' '123' '120' '73' '65' '95' '70' '149' '76'\n",
            " '191' '79' '124' '89' '109' '163' '103' '119' '67' '130' '143' '110' '81'\n",
            " '99' '137' '102' '148' '172' '173' '128' '112' '104' '121' '166' '162'\n",
            " '177' '69' '106' '115' '169' '101' '113' '132' '142' '97' '111' '131'\n",
            " '192' '139' '151' '84' '197' '141' '200' '118' '180' '146' '129' '183'\n",
            " '193' '126' '179' '175' '159' '164' '108' '154' '144' '125' '186' '147'\n",
            " '190' '174' '165' '161' '206' '155' '211' '156' '140' '194' '136' '171'\n",
            " '176' '196' '216' '202' '201' '145' '152' '203' '182' '168' '205' '209'\n",
            " '185' '167' '195' '160' '170' '184' '213' '189' '199' '187' '207' '218'\n",
            " '204' '214' '188' '210' '198' '215' '212' '208' '217']\n",
            "agr_% of GDP ['0.9' '8.3' '1' '0.6' '2' '15.4' '6.2' '2.1' '1.7' '2.2' '4.7' '3.6'\n",
            " '2.6' '3.9' '13.9' '6.7' '1.6' '0.7' '10.9' '1.8' '2.4' '8.2' '9.8' '1.2'\n",
            " '21.6' '2.3' '2.8' '0.1' '1.1' '9.6' '8.4' '7.4' '0' '24.7' '4.4' '2.7'\n",
            " '14.2' '15.3' '7.5' '2.5' '4.2' '4' '11.9' '4.8' '13.2' '0.2' '10.2'\n",
            " '39.6' '0.4' '14.8' '14' '0.8' '7.7' '3.8' '7.8' '35.8' '35.3' '5.5'\n",
            " '18.5' '24.8' '4.3' '3.3' '5.7' '23.4' '18.3' '21.1' '17.4' '9.9' '13'\n",
            " '0.3' '1.3' '23.1' '3.2' '17.9' '25.4' '10.6' '25.8' '3.4' '24.1' '5.4'\n",
            " '5.8' '20' '27' '13.8' '25.3' '23' '22.1' '20.9' '12.5' '16.9' '40.9'\n",
            " '7.6' '4.5' '15.5' '31.9' '22.6' '6.6' '22.3' '10' '17.7' '23.7' '3'\n",
            " '1.4' '59' '25.6' '19.5' '30.9' '21.9' '12.2' '8.9' '41.5' '28.6' '14.3'\n",
            " '7' '60.2' '11.7' nan '28.1' '22.5' '6.5' '60.7' '11.6' '17.5' '40' '18'\n",
            " '5.3' '9.4' '15.7' '15.9' '36.1' '42.9' '9.7' '7.9' '2.9' '44.1' '34.3'\n",
            " '9.1' '20.4' '10.4' '7.1' '49.5' '27.4' '11.8' '26.3' '5.1' '41' '6.1'\n",
            " '24.5' '23.5' '0.5']\n",
            "Industry ['3659040' '4716300' '1450548' '1099252' '517575' '487350' '560970'\n",
            " '437010' '461040' '460840' '601290' '475956' '362790' '303224' '360872'\n",
            " '372090' '267502' '147586' '302195' '174234' '174812' '205740' '178827'\n",
            " '205020' '107191' '158484' '153544' '116241' '72248' '121943' '188593'\n",
            " '92568' '102198' '24581' '124379' '76812' '95900' '114353' '96248'\n",
            " '75838' '53270' '82645' '70195' '72007' '74359' '82245' '46786' '76230'\n",
            " '79267' '68027' '32688' '52610' '64115' '78236' '63356' '83649' '53733'\n",
            " '40788' '76136' '3094' '69442' '32214' '28940' '51703' '35517' '33250'\n",
            " '20165' '25489' '17702' '13466' '25306' '32512' '16711' '23223' '23707'\n",
            " '7559' '15068' '9271' '12371' '15666' '18687' '21429' '11067' '14760'\n",
            " '5781' '15482' '13301' '11138' '18710' '11702' '13339' '11494' '10209'\n",
            " '16181' '19252' '14145' '12938' '21252' '8582' '6519' '7972' '11480'\n",
            " '6743' '6122' '7139' '3671' '9106' '4920' '4822' '3249' '6441' '7298'\n",
            " '2322' '4444' '9906' '8670' '4679' '5694' '4603' '4885' '3903' '3564'\n",
            " '2835' '3415' '6367' '3340' '2902' '3240' '2841' '2675' '1273' '6757'\n",
            " '3426' '3069' '1746' '3924' '5690' '2074' '2589' '1373' '2174' '3526'\n",
            " '703' '1570' '1739' '1187' '3962' '1328' '1845' '2295' '883' '1183'\n",
            " '2736' '483' '355' '1791' '841' nan '868' '858' '1036' '905' '1884' '99'\n",
            " '231' '623' '744' '700' '1814' '253' '1140' '1357' '543' '620' '1078'\n",
            " '274' '941' '911' '838' '989' '169' '224' '225' '437' '317' '251' '309'\n",
            " '244' '640' '310' '204' '167' '97' '722' '158' '147' '115' '282' '199'\n",
            " '76' '142' '78' '82' '83' '84' '91' '51' '62' '61' '56' '38' '39' '20'\n",
            " '13' '37' '2' '3']\n",
            "Ind_Rank ['2' '1' '3' '4' '7' '8' '6' '12' '10' '11' '5' '9' '14' '16' '15' '13'\n",
            " '18' '27' '17' '24' '23' '19' '22' '20' '32' '25' '26' '30' '47' '29'\n",
            " '21' '36' '33' '68' '28' '42' '35' '31' '34' '45' '55' '38' '49' '48'\n",
            " '46' '39' '58' '43' '40' '51' '62' '56' '52' '41' '53' '37' '54' '59'\n",
            " '44' '132' '50' '64' '65' '57' '60' '61' '73' '66' '77' '85' '67' '63'\n",
            " '78' '70' '69' '102' '82' '97' '89' '80' '76' '71' '94' '83' '111' '81'\n",
            " '87' '93' '75' '90' '86' '91' '95' '79' '74' '84' '88' '72' '100' '107'\n",
            " '101' '92' '106' '110' '104' '123' '98' '114' '116' '129' '108' '103'\n",
            " '140' '119' '96' '99' '117' '112' '118' '115' '122' '124' '136' '127'\n",
            " '109' '128' '134' '131' '130' '135' '138' '155' '105' '126' '133' '148'\n",
            " '121' '113' '143' '139' '152' '142' '125' '173' '151' '149' '156' '120'\n",
            " '154' '145' '141' '166' '157' '137' '179' '181' '147' '169' nan '167'\n",
            " '168' '160' '165' '144' '201' '190' '161' '176' '171' '174' '146' '187'\n",
            " '158' '153' '178' '177' '159' '186' '163' '150' '164' '170' '162' '195'\n",
            " '192' '191' '180' '182' '188' '184' '189' '175' '183' '193' '196' '202'\n",
            " '172' '197' '198' '200' '185' '194' '208' '199' '207' '206' '205' '204'\n",
            " '203' '212' '209' '210' '211' '215' '213' '217' '218' '216' '214' '220'\n",
            " '219']\n",
            "Ind_% of GDP ['18.9' '39.5' '29.7' '30.1' '20.1' '19' '23' '21' '24' '28.1' '39.3'\n",
            " '32.4' '26.1' '23.2' '31.6' '40.3' '31.8' '17.9' '44.2' '25.6' '28.2'\n",
            " '36' '33' '40.2' '21.8' '36.2' '35.9' '28.4' '18.3' '31.1' '49.8' '26.6'\n",
            " '7.2' '38.2' '23.7' '30.6' '36.9' '31.3' '24.8' '19.1' '31.4' '27.8'\n",
            " '29.2' '33.3' '22.1' '36.3' '37.8' '33.2' '16' '26.2' '33.1' '40.6'\n",
            " '36.1' '50.3' '34.4' '30.9' '61.4' '2.6' '58.7' '29.1' '50.1' '35.2' '35'\n",
            " '21.5' '30.5' '22.2' '17.2' '33.8' '45.2' '23.6' '35.4' '11.9' '25'\n",
            " '15.7' '28' '34.3' '28.6' '11.3' '32.2' '28.5' '24.5' '44.9' '28.9'\n",
            " '28.8' '41.1' '49.1' '37.4' '63.8' '21.6' '27.7' '41' '24.6' '14.3'\n",
            " '35.6' '19.8' '19.6' '13.5' '32.8' '11' '21.1' '48.8' '42.9' '26.8'\n",
            " '26.9' '24.3' '23.4' '44' '24.4' '22' '23.8' '25.8' '10.6' '56.5' '30'\n",
            " '26.5' '14.1' '23.1' '38.4' '7.7' '17.6' '20.8' '14.6' '50.8' '18.1'\n",
            " '25.5' '32.5' '13' '17.7' '7.4' '5.8' '29.6' '14' nan '15.5' '15.8' '20'\n",
            " '2' '4.8' '15.9' '45' '6.5' '39' '10' '34.6' '57.8' '33.6' '42.6' '7.5'\n",
            " '10.1' '10.5' '0' '13.8' '14.2' '39.2' '20.2' '12.9' '7.6' '58.1' '11.2'\n",
            " '9.1' '17.4' '11.8' '12.4' '13.6' '15' '14.8' '12.7' '9.9' '7' '21.3'\n",
            " '5.6' '8.9']\n",
            "Services ['15526720' '6232680' '3384612' '2530836' '2005925' '2062260' '1499985'\n",
            " '1514968' '1419619' '1151280' '891990' '915187' '977170' '969794'\n",
            " '730880' '423795' '516497' '578799' '363728' '501602' '377519' '354902'\n",
            " '354403' '292740' '381068' '243417' '232241' '288147' '237275' '260747'\n",
            " '186320' '241860' '232268' '316478' '197639' '243723' '187413' '169515'\n",
            " '188805' '229962' '157021' '169238' '175488' '139329' '92223' '123582'\n",
            " '160257' '117810' '125191' '128267' '163440' '140359' '107891' '105214'\n",
            " '88979' '82319' '94970' '85404' '35216' '68782' '48385' '61992' '60586'\n",
            " '50671' '57412' '58140' '69592' '51563' '33491' '37501' '45521' '38123'\n",
            " '44752' '31730' '26721' '55834' '41466' '48421' '43299' '37878' '34268'\n",
            " '26971' '38629' '24566' '45379' '31685' '31876' '26003' '19877' '27047'\n",
            " '18553' '21472' '25523' '19331' '17527' '18910' '20830' '11625' '14988'\n",
            " '22695' '15685' '9380' '17789' '13459' '17668' '15813' '15092' '18488'\n",
            " '14858' '12396' '13109' '9323' '18323' '11773' '10312' '7074' '11419'\n",
            " '7872' '10369' '11560' '9443' '10082' '6030' '10186' '7452' '6955' '6081'\n",
            " '6981' '8491' '6755' '9104' '10581' '5059' '6852' '6017' '6579' '5511'\n",
            " '4129' '7371' '7034' '2630' '4827' '3866' '8214' '4593' '4790' '5953'\n",
            " '3143' '2963' '3320' '3756' '5841' '4706' '3469' '2120' '5716' '3551'\n",
            " '5165' nan '4693' '3048' '4042' '3614' '1979' '4762' '4522' '2413' '4052'\n",
            " '3765' '3374' '1959' '1282' '2104' '1605' '1496' '2204' '1189' '2386'\n",
            " '1635' '891' '1478' '1668' '968' '2054' '1641' '1143' '1584' '2044' '821'\n",
            " '1131' '1422' '991' '1190' '1238' '557' '740' '499' '852' '679' '903'\n",
            " '647' '535' '615' '255' '396' '432' '472' '261' '252' '180' '250' '247'\n",
            " '246' '217' '171' '130' '134' '69' '28' '5']\n",
            "Services_Rank ['1' '2' '3' '4' '6' '5' '8' '7' '9' '10' '14' '13' '11' '12' '15' '19'\n",
            " '17' '16' '22' '18' '21' '23' '24' '26' '20' '30' '34' '27' '32' '28'\n",
            " '39' '31' '33' '25' '36' '29' '38' '41' '37' '35' '45' '42' '40' '47'\n",
            " '55' '50' '44' '51' '49' '48' '43' '46' '52' '53' '56' '58' '54' '57'\n",
            " '79' '60' '69' '61' '62' '67' '64' '63' '59' '66' '81' '78' '70' '76'\n",
            " '72' '83' '87' '65' '74' '68' '73' '77' '80' '86' '75' '90' '71' '84'\n",
            " '82' '88' '94' '85' '97' '92' '89' '95' '102' '96' '93' '112' '106' '91'\n",
            " '104' '121' '100' '108' '101' '103' '105' '98' '107' '110' '109' '122'\n",
            " '99' '111' '117' '129' '114' '126' '116' '113' '120' '119' '137' '118'\n",
            " '127' '132' '136' '131' '124' '134' '123' '115' '144' '133' '138' '135'\n",
            " '142' '152' '128' '130' '166' '145' '155' '125' '150' '146' '139' '163'\n",
            " '165' '162' '157' '140' '148' '160' '170' '141' '159' '143' nan '149'\n",
            " '164' '154' '158' '174' '147' '151' '167' '153' '156' '161' '175' '184'\n",
            " '171' '179' '181' '169' '188' '168' '178' '194' '182' '176' '192' '172'\n",
            " '177' '189' '180' '173' '196' '190' '185' '183' '191' '187' '186' '201'\n",
            " '197' '204' '195' '198' '193' '199' '202' '203' '200' '209' '207' '206'\n",
            " '205' '208' '210' '215' '211' '212' '213' '214' '216' '218' '217' '219'\n",
            " '220' '221']\n",
            "Services_% of GDP ['80.2' '52.2' '69.3' '77.9' '80.4' '61.5' '72.8' '73.9' '70.2' '58.3'\n",
            " '62.3' '70.3' '74.2' '64' '45.9' '61.4' '53.2' '73.7' '60.9' '62.1'\n",
            " '65.4' '57.4' '77.5' '55.6' '54.3' '70.4' '60.1' '66.5' '49.2' '69.5'\n",
            " '67.5' '92.7' '60.7' '75.2' '59.8' '54.7' '56.3' '64.3' '56.5' '41.3'\n",
            " '75.7' '56.1' '59.7' '62.6' '80' '69.9' '55.7' '54.6' '50.7' '49.5'\n",
            " '60.8' '64.7' '28.4' '57.8' '40.9' '56' '58.2' '49.1' '56.9' '61.2'\n",
            " '61.7' '42' '47.9' '53' '63.2' '47' '39.9' '87.9' '68.8' '82' '73.5'\n",
            " '67.7' '62.9' '51.1' '73.3' '47.6' '88.7' '65.9' '68.3' '57.2' '47.7'\n",
            " '66.8' '53.8' '44.7' '50' '34.9' '48.9' '54.5' '33.5' '64.9' '51' '61.6'\n",
            " '59' '74.4' '60.4' '51.5' '41.9' '86.8' '55.9' '50.8' '35' '60.6' '69.1'\n",
            " '58.8' '66.2' '40.2' '69.2' '46.1' '53.7' '67.6' '88.1' '42.3' '60'\n",
            " '60.3' '41' '75' '72' '27' '51.3' '42.1' '90' '57.3' '73.2' '40.3' '40.4'\n",
            " '86' '52' '32.5' '93.3' '58.7' nan '83.8' '78' '71.5' '39.7' '96' '93.8'\n",
            " '50.3' '84.5' '81' '76.6' '48.6' '32.9' '44.1' '43' '87' '32.8' '66.3'\n",
            " '41.7' '91.3' '53.4' '76.1' '100' '41.2' '62.2' '82.8' '83.7' '58.1'\n",
            " '76.7' '87.8' '68.9' '66' '63.9' '75.5' '38.7' '60.2' '71.1' '84' '73.4'\n",
            " '54.8' '81.3' '82.1' '83' '85.7' '70' '76.3' '90.6' '40']\n",
            "Year GDP  ['2017' '2016' '2013' '2014' '2015' '2012' '2005' '2009' '2008' '2003' nan]\n",
            "Year Sector ['2017' '2016' '2011' 'FY12/13' '2014' '2013' nan '2012' '2010' '2009'\n",
            " '2015' '2000' '2002' '2008' '2006' '2003' '2007']\n"
          ]
        }
      ]
    },
    {
      "cell_type": "markdown",
      "source": [
        "#### Handle the null values in the Dataset"
      ],
      "metadata": {
        "id": "lfYHUZgHbFaU"
      }
    },
    {
      "cell_type": "markdown",
      "source": [
        "- since the null value is not much so going tp drop all the Null value"
      ],
      "metadata": {
        "id": "3OzskHGa_IQI"
      }
    },
    {
      "cell_type": "code",
      "source": [
        "df.dropna(inplace=True)"
      ],
      "metadata": {
        "id": "cUxKSeTMbFCe"
      },
      "execution_count": 357,
      "outputs": []
    },
    {
      "cell_type": "markdown",
      "source": [
        "#### Handle the Noise Values in Dataset"
      ],
      "metadata": {
        "id": "ppVcquQvbJ-J"
      }
    },
    {
      "cell_type": "code",
      "source": [
        "df[\"GDP (millions of $)\"] = pd.to_numeric(df[\"GDP (millions of $)\"], errors=\"coerce\")\n",
        "df[\"Agriculture GDP\"] = pd.to_numeric(df[\"Agriculture GDP\"], errors=\"coerce\")\n",
        "df[\"Agr_Rank\"] = pd.to_numeric(df[\"Agr_Rank\"], errors=\"coerce\")\n",
        "df[\"agr_% of GDP\"] = pd.to_numeric(df[\"agr_% of GDP\"], errors=\"coerce\")\n",
        "df[\"Industry\"] = pd.to_numeric(df[\"Industry\"], errors=\"coerce\")\n",
        "df[\"Ind_Rank\"] = pd.to_numeric(df[\"Ind_Rank\"], errors=\"coerce\")\n",
        "df[\"Ind_% of GDP\"] = pd.to_numeric(df[\"Ind_% of GDP\"], errors=\"coerce\")\n",
        "df[\"Services\"] = pd.to_numeric(df[\"Services\"], errors=\"coerce\")\n",
        "df[\"Services_Rank\"] = pd.to_numeric(df[\"Services_Rank\"], errors=\"coerce\")\n",
        "df[\"Services_% of GDP\"] = pd.to_numeric(df[\"Services_% of GDP\"], errors=\"coerce\")\n",
        "df[\"Year GDP \"] = pd.to_numeric(df[\"Year GDP \"],errors=\"coerce\")\n",
        "df[\"Year Sector\"] = pd.to_numeric(df[\"Year Sector\"], errors=\"coerce\")\n",
        "df[\"Rank\"] = pd.to_numeric(df[\"Rank\"], errors=\"coerce\")"
      ],
      "metadata": {
        "id": "vnQMzQebbJoZ"
      },
      "execution_count": 358,
      "outputs": []
    },
    {
      "cell_type": "markdown",
      "source": [
        "- finding those country whose name is not writen right\n",
        "-we observe that the name is correct but last word is writen fist and seprated by coma"
      ],
      "metadata": {
        "id": "skhS34uMa9HM"
      }
    },
    {
      "cell_type": "code",
      "source": [
        "df['Country/Economy'][df['Country/Economy'].str.split(',').str.len()>1]=df['Country/Economy'][df['Country/Economy'].str.split(',').str.len()>1].str.split(',').str[1].str.strip()+' '+df['Country/Economy'][df['Country/Economy'].str.split(',').str.len()>1].str.split(',').str[0]\n"
      ],
      "metadata": {
        "colab": {
          "base_uri": "https://localhost:8080/"
        },
        "id": "ow0pT5ZoYKXU",
        "outputId": "ade81989-fdb8-4372-b8d7-b6bf73475ef6"
      },
      "execution_count": 359,
      "outputs": [
        {
          "output_type": "stream",
          "name": "stderr",
          "text": [
            "<ipython-input-359-b1669fa1dfac>:1: SettingWithCopyWarning: \n",
            "A value is trying to be set on a copy of a slice from a DataFrame\n",
            "\n",
            "See the caveats in the documentation: https://pandas.pydata.org/pandas-docs/stable/user_guide/indexing.html#returning-a-view-versus-a-copy\n",
            "  df['Country/Economy'][df['Country/Economy'].str.split(',').str.len()>1]=df['Country/Economy'][df['Country/Economy'].str.split(',').str.len()>1].str.split(',').str[1].str.strip()+' '+df['Country/Economy'][df['Country/Economy'].str.split(',').str.len()>1].str.split(',').str[0]\n"
          ]
        }
      ]
    },
    {
      "cell_type": "code",
      "source": [
        "df['Country/Economy'][df['Country/Economy'].str.split(',').str.len()>1].str.split(',').str[1]"
      ],
      "metadata": {
        "colab": {
          "base_uri": "https://localhost:8080/"
        },
        "id": "uz4XVnFCdpPo",
        "outputId": "b1a1c507-0f22-4b27-c116-5b631ad458d0"
      },
      "execution_count": 360,
      "outputs": [
        {
          "output_type": "execute_result",
          "data": {
            "text/plain": [
              "Series([], Name: Country/Economy, dtype: object)"
            ]
          },
          "metadata": {},
          "execution_count": 360
        }
      ]
    },
    {
      "cell_type": "code",
      "source": [
        "df.dtypes"
      ],
      "metadata": {
        "colab": {
          "base_uri": "https://localhost:8080/"
        },
        "id": "6iu9Wev5S-rY",
        "outputId": "66840514-117a-41ef-9ad6-62bc176bc7f6"
      },
      "execution_count": 361,
      "outputs": [
        {
          "output_type": "execute_result",
          "data": {
            "text/plain": [
              "Rank                     int64\n",
              "Country/Economy         object\n",
              "GDP (millions of $)      int64\n",
              "Agriculture GDP          int64\n",
              "Agr_Rank                 int64\n",
              "agr_% of GDP           float64\n",
              "Industry                 int64\n",
              "Ind_Rank                 int64\n",
              "Ind_% of GDP           float64\n",
              "Services                 int64\n",
              "Services_Rank            int64\n",
              "Services_% of GDP      float64\n",
              "Year GDP                 int64\n",
              "Year Sector            float64\n",
              "dtype: object"
            ]
          },
          "metadata": {},
          "execution_count": 361
        }
      ]
    },
    {
      "cell_type": "code",
      "source": [
        "df.describe()"
      ],
      "metadata": {
        "colab": {
          "base_uri": "https://localhost:8080/",
          "height": 399
        },
        "id": "yJl1PlbyVo8b",
        "outputId": "ff6e0712-0875-4e09-9d12-9dc51dec7867"
      },
      "execution_count": 362,
      "outputs": [
        {
          "output_type": "execute_result",
          "data": {
            "text/plain": [
              "             Rank  GDP (millions of $)  Agriculture GDP    Agr_Rank  \\\n",
              "count  217.000000         2.170000e+02       217.000000  217.000000   \n",
              "mean   111.400922         3.640742e+05     15892.801843  109.138249   \n",
              "std     64.726995         1.628249e+06     74169.108272   62.994115   \n",
              "min      1.000000         1.000000e+01         1.000000    1.000000   \n",
              "25%     56.000000         4.797000e+03       284.000000   55.000000   \n",
              "50%    111.000000         2.268000e+04      2139.000000  109.000000   \n",
              "75%    167.000000         1.663000e+05      8004.000000  163.000000   \n",
              "max    224.000000         1.936000e+07    991020.000000  218.000000   \n",
              "\n",
              "       agr_% of GDP      Industry    Ind_Rank  Ind_% of GDP      Services  \\\n",
              "count    217.000000  2.170000e+02  217.000000    217.000000  2.170000e+02   \n",
              "mean      11.463134  1.009671e+05  110.529954     26.585253  2.465858e+05   \n",
              "std       12.077716  4.299084e+05   63.814040     12.094863  1.193621e+06   \n",
              "min        0.100000  2.000000e+00    1.000000      2.000000  5.000000e+00   \n",
              "25%        2.400000  9.050000e+02   56.000000     17.900000  2.630000e+03   \n",
              "50%        7.400000  6.122000e+03  110.000000     25.800000  1.177300e+04   \n",
              "75%       17.500000  5.261000e+04  165.000000     33.800000  8.897900e+04   \n",
              "max       60.700000  4.716300e+06  220.000000     63.800000  1.552672e+07   \n",
              "\n",
              "       Services_Rank  Services_% of GDP    Year GDP   Year Sector  \n",
              "count     217.000000         217.000000   217.000000   216.000000  \n",
              "mean      111.101382          61.685253  2016.483871  2016.152778  \n",
              "std        64.089917          14.335486     1.878476     2.700524  \n",
              "min         1.000000          27.000000  2003.000000  2000.000000  \n",
              "25%        56.000000          51.500000  2017.000000  2017.000000  \n",
              "50%       111.000000          60.800000  2017.000000  2017.000000  \n",
              "75%       166.000000          72.000000  2017.000000  2017.000000  \n",
              "max       221.000000          96.000000  2017.000000  2017.000000  "
            ],
            "text/html": [
              "\n",
              "  <div id=\"df-5cabc99f-b371-4cdc-8da0-9ceac439e080\">\n",
              "    <div class=\"colab-df-container\">\n",
              "      <div>\n",
              "<style scoped>\n",
              "    .dataframe tbody tr th:only-of-type {\n",
              "        vertical-align: middle;\n",
              "    }\n",
              "\n",
              "    .dataframe tbody tr th {\n",
              "        vertical-align: top;\n",
              "    }\n",
              "\n",
              "    .dataframe thead th {\n",
              "        text-align: right;\n",
              "    }\n",
              "</style>\n",
              "<table border=\"1\" class=\"dataframe\">\n",
              "  <thead>\n",
              "    <tr style=\"text-align: right;\">\n",
              "      <th></th>\n",
              "      <th>Rank</th>\n",
              "      <th>GDP (millions of $)</th>\n",
              "      <th>Agriculture GDP</th>\n",
              "      <th>Agr_Rank</th>\n",
              "      <th>agr_% of GDP</th>\n",
              "      <th>Industry</th>\n",
              "      <th>Ind_Rank</th>\n",
              "      <th>Ind_% of GDP</th>\n",
              "      <th>Services</th>\n",
              "      <th>Services_Rank</th>\n",
              "      <th>Services_% of GDP</th>\n",
              "      <th>Year GDP</th>\n",
              "      <th>Year Sector</th>\n",
              "    </tr>\n",
              "  </thead>\n",
              "  <tbody>\n",
              "    <tr>\n",
              "      <th>count</th>\n",
              "      <td>217.000000</td>\n",
              "      <td>2.170000e+02</td>\n",
              "      <td>217.000000</td>\n",
              "      <td>217.000000</td>\n",
              "      <td>217.000000</td>\n",
              "      <td>2.170000e+02</td>\n",
              "      <td>217.000000</td>\n",
              "      <td>217.000000</td>\n",
              "      <td>2.170000e+02</td>\n",
              "      <td>217.000000</td>\n",
              "      <td>217.000000</td>\n",
              "      <td>217.000000</td>\n",
              "      <td>216.000000</td>\n",
              "    </tr>\n",
              "    <tr>\n",
              "      <th>mean</th>\n",
              "      <td>111.400922</td>\n",
              "      <td>3.640742e+05</td>\n",
              "      <td>15892.801843</td>\n",
              "      <td>109.138249</td>\n",
              "      <td>11.463134</td>\n",
              "      <td>1.009671e+05</td>\n",
              "      <td>110.529954</td>\n",
              "      <td>26.585253</td>\n",
              "      <td>2.465858e+05</td>\n",
              "      <td>111.101382</td>\n",
              "      <td>61.685253</td>\n",
              "      <td>2016.483871</td>\n",
              "      <td>2016.152778</td>\n",
              "    </tr>\n",
              "    <tr>\n",
              "      <th>std</th>\n",
              "      <td>64.726995</td>\n",
              "      <td>1.628249e+06</td>\n",
              "      <td>74169.108272</td>\n",
              "      <td>62.994115</td>\n",
              "      <td>12.077716</td>\n",
              "      <td>4.299084e+05</td>\n",
              "      <td>63.814040</td>\n",
              "      <td>12.094863</td>\n",
              "      <td>1.193621e+06</td>\n",
              "      <td>64.089917</td>\n",
              "      <td>14.335486</td>\n",
              "      <td>1.878476</td>\n",
              "      <td>2.700524</td>\n",
              "    </tr>\n",
              "    <tr>\n",
              "      <th>min</th>\n",
              "      <td>1.000000</td>\n",
              "      <td>1.000000e+01</td>\n",
              "      <td>1.000000</td>\n",
              "      <td>1.000000</td>\n",
              "      <td>0.100000</td>\n",
              "      <td>2.000000e+00</td>\n",
              "      <td>1.000000</td>\n",
              "      <td>2.000000</td>\n",
              "      <td>5.000000e+00</td>\n",
              "      <td>1.000000</td>\n",
              "      <td>27.000000</td>\n",
              "      <td>2003.000000</td>\n",
              "      <td>2000.000000</td>\n",
              "    </tr>\n",
              "    <tr>\n",
              "      <th>25%</th>\n",
              "      <td>56.000000</td>\n",
              "      <td>4.797000e+03</td>\n",
              "      <td>284.000000</td>\n",
              "      <td>55.000000</td>\n",
              "      <td>2.400000</td>\n",
              "      <td>9.050000e+02</td>\n",
              "      <td>56.000000</td>\n",
              "      <td>17.900000</td>\n",
              "      <td>2.630000e+03</td>\n",
              "      <td>56.000000</td>\n",
              "      <td>51.500000</td>\n",
              "      <td>2017.000000</td>\n",
              "      <td>2017.000000</td>\n",
              "    </tr>\n",
              "    <tr>\n",
              "      <th>50%</th>\n",
              "      <td>111.000000</td>\n",
              "      <td>2.268000e+04</td>\n",
              "      <td>2139.000000</td>\n",
              "      <td>109.000000</td>\n",
              "      <td>7.400000</td>\n",
              "      <td>6.122000e+03</td>\n",
              "      <td>110.000000</td>\n",
              "      <td>25.800000</td>\n",
              "      <td>1.177300e+04</td>\n",
              "      <td>111.000000</td>\n",
              "      <td>60.800000</td>\n",
              "      <td>2017.000000</td>\n",
              "      <td>2017.000000</td>\n",
              "    </tr>\n",
              "    <tr>\n",
              "      <th>75%</th>\n",
              "      <td>167.000000</td>\n",
              "      <td>1.663000e+05</td>\n",
              "      <td>8004.000000</td>\n",
              "      <td>163.000000</td>\n",
              "      <td>17.500000</td>\n",
              "      <td>5.261000e+04</td>\n",
              "      <td>165.000000</td>\n",
              "      <td>33.800000</td>\n",
              "      <td>8.897900e+04</td>\n",
              "      <td>166.000000</td>\n",
              "      <td>72.000000</td>\n",
              "      <td>2017.000000</td>\n",
              "      <td>2017.000000</td>\n",
              "    </tr>\n",
              "    <tr>\n",
              "      <th>max</th>\n",
              "      <td>224.000000</td>\n",
              "      <td>1.936000e+07</td>\n",
              "      <td>991020.000000</td>\n",
              "      <td>218.000000</td>\n",
              "      <td>60.700000</td>\n",
              "      <td>4.716300e+06</td>\n",
              "      <td>220.000000</td>\n",
              "      <td>63.800000</td>\n",
              "      <td>1.552672e+07</td>\n",
              "      <td>221.000000</td>\n",
              "      <td>96.000000</td>\n",
              "      <td>2017.000000</td>\n",
              "      <td>2017.000000</td>\n",
              "    </tr>\n",
              "  </tbody>\n",
              "</table>\n",
              "</div>\n",
              "      <button class=\"colab-df-convert\" onclick=\"convertToInteractive('df-5cabc99f-b371-4cdc-8da0-9ceac439e080')\"\n",
              "              title=\"Convert this dataframe to an interactive table.\"\n",
              "              style=\"display:none;\">\n",
              "        \n",
              "  <svg xmlns=\"http://www.w3.org/2000/svg\" height=\"24px\"viewBox=\"0 0 24 24\"\n",
              "       width=\"24px\">\n",
              "    <path d=\"M0 0h24v24H0V0z\" fill=\"none\"/>\n",
              "    <path d=\"M18.56 5.44l.94 2.06.94-2.06 2.06-.94-2.06-.94-.94-2.06-.94 2.06-2.06.94zm-11 1L8.5 8.5l.94-2.06 2.06-.94-2.06-.94L8.5 2.5l-.94 2.06-2.06.94zm10 10l.94 2.06.94-2.06 2.06-.94-2.06-.94-.94-2.06-.94 2.06-2.06.94z\"/><path d=\"M17.41 7.96l-1.37-1.37c-.4-.4-.92-.59-1.43-.59-.52 0-1.04.2-1.43.59L10.3 9.45l-7.72 7.72c-.78.78-.78 2.05 0 2.83L4 21.41c.39.39.9.59 1.41.59.51 0 1.02-.2 1.41-.59l7.78-7.78 2.81-2.81c.8-.78.8-2.07 0-2.86zM5.41 20L4 18.59l7.72-7.72 1.47 1.35L5.41 20z\"/>\n",
              "  </svg>\n",
              "      </button>\n",
              "      \n",
              "  <style>\n",
              "    .colab-df-container {\n",
              "      display:flex;\n",
              "      flex-wrap:wrap;\n",
              "      gap: 12px;\n",
              "    }\n",
              "\n",
              "    .colab-df-convert {\n",
              "      background-color: #E8F0FE;\n",
              "      border: none;\n",
              "      border-radius: 50%;\n",
              "      cursor: pointer;\n",
              "      display: none;\n",
              "      fill: #1967D2;\n",
              "      height: 32px;\n",
              "      padding: 0 0 0 0;\n",
              "      width: 32px;\n",
              "    }\n",
              "\n",
              "    .colab-df-convert:hover {\n",
              "      background-color: #E2EBFA;\n",
              "      box-shadow: 0px 1px 2px rgba(60, 64, 67, 0.3), 0px 1px 3px 1px rgba(60, 64, 67, 0.15);\n",
              "      fill: #174EA6;\n",
              "    }\n",
              "\n",
              "    [theme=dark] .colab-df-convert {\n",
              "      background-color: #3B4455;\n",
              "      fill: #D2E3FC;\n",
              "    }\n",
              "\n",
              "    [theme=dark] .colab-df-convert:hover {\n",
              "      background-color: #434B5C;\n",
              "      box-shadow: 0px 1px 3px 1px rgba(0, 0, 0, 0.15);\n",
              "      filter: drop-shadow(0px 1px 2px rgba(0, 0, 0, 0.3));\n",
              "      fill: #FFFFFF;\n",
              "    }\n",
              "  </style>\n",
              "\n",
              "      <script>\n",
              "        const buttonEl =\n",
              "          document.querySelector('#df-5cabc99f-b371-4cdc-8da0-9ceac439e080 button.colab-df-convert');\n",
              "        buttonEl.style.display =\n",
              "          google.colab.kernel.accessAllowed ? 'block' : 'none';\n",
              "\n",
              "        async function convertToInteractive(key) {\n",
              "          const element = document.querySelector('#df-5cabc99f-b371-4cdc-8da0-9ceac439e080');\n",
              "          const dataTable =\n",
              "            await google.colab.kernel.invokeFunction('convertToInteractive',\n",
              "                                                     [key], {});\n",
              "          if (!dataTable) return;\n",
              "\n",
              "          const docLinkHtml = 'Like what you see? Visit the ' +\n",
              "            '<a target=\"_blank\" href=https://colab.research.google.com/notebooks/data_table.ipynb>data table notebook</a>'\n",
              "            + ' to learn more about interactive tables.';\n",
              "          element.innerHTML = '';\n",
              "          dataTable['output_type'] = 'display_data';\n",
              "          await google.colab.output.renderOutput(dataTable, element);\n",
              "          const docLink = document.createElement('div');\n",
              "          docLink.innerHTML = docLinkHtml;\n",
              "          element.appendChild(docLink);\n",
              "        }\n",
              "      </script>\n",
              "    </div>\n",
              "  </div>\n",
              "  "
            ]
          },
          "metadata": {},
          "execution_count": 362
        }
      ]
    },
    {
      "cell_type": "markdown",
      "source": [
        "#### Check the outliers for various Thresholds (1.5 x IQR , 2 X IQR and so on) for Numeric Columns"
      ],
      "metadata": {
        "id": "3r2BsI3FayQO"
      }
    },
    {
      "cell_type": "code",
      "source": [
        "df.columns"
      ],
      "metadata": {
        "colab": {
          "base_uri": "https://localhost:8080/"
        },
        "id": "qDJDCYw4YsZz",
        "outputId": "6a6bb979-e7d5-4059-f525-9f003a6e33bb"
      },
      "execution_count": 363,
      "outputs": [
        {
          "output_type": "execute_result",
          "data": {
            "text/plain": [
              "Index(['Rank', 'Country/Economy', 'GDP (millions of $)', 'Agriculture GDP',\n",
              "       'Agr_Rank', 'agr_% of GDP', 'Industry', 'Ind_Rank', 'Ind_% of GDP',\n",
              "       'Services', 'Services_Rank', 'Services_% of GDP', 'Year GDP ',\n",
              "       'Year Sector'],\n",
              "      dtype='object')"
            ]
          },
          "metadata": {},
          "execution_count": 363
        }
      ]
    },
    {
      "cell_type": "code",
      "source": [
        "import matplotlib.pyplot as plt\n",
        "import seaborn as sns\n",
        "col=['Rank', 'GDP (millions of $)', 'Agriculture GDP',\n",
        "       'Agr_Rank', 'agr_% of GDP', 'Industry', 'Ind_Rank', 'Ind_% of GDP',\n",
        "       'Services', 'Services_Rank', 'Services_% of GDP', 'Year GDP ',\n",
        "       'Year Sector']\n",
        "\n",
        "for j in col:\n",
        "  plt.figure()\n",
        "  sns.boxplot(y=j,data=df)"
      ],
      "metadata": {
        "id": "x9odz7mYaeic",
        "colab": {
          "base_uri": "https://localhost:8080/",
          "height": 1000
        },
        "outputId": "6d41d2c8-3222-4bc0-f80d-85ef223af1ee"
      },
      "execution_count": 364,
      "outputs": [
        {
          "output_type": "display_data",
          "data": {
            "text/plain": [
              "<Figure size 432x288 with 1 Axes>"
            ],
            "image/png": "[encoded data removed]"
          },
          "metadata": {}
        },
        {
          "output_type": "display_data",
          "data": {
            "text/plain": [
              "<Figure size 432x288 with 1 Axes>"
            ],
            "image/png": "[encoded data removed]"
          },
          "metadata": {}
        },
        {
          "output_type": "display_data",
          "data": {
            "text/plain": [
              "<Figure size 432x288 with 1 Axes>"
            ],
            "image/png": "[encoded data removed]"
          },
          "metadata": {}
        },
        {
          "output_type": "display_data",
          "data": {
            "text/plain": [
              "<Figure size 432x288 with 1 Axes>"
            ],
            "image/png": "[encoded data removed]"
          },
          "metadata": {}
        },
        {
          "output_type": "display_data",
          "data": {
            "text/plain": [
              "<Figure size 432x288 with 1 Axes>"
            ],
            "image/png": "[encoded data removed]"
          },
          "metadata": {}
        },
        {
          "output_type": "display_data",
          "data": {
            "text/plain": [
              "<Figure size 432x288 with 1 Axes>"
            ],
            "image/png": "[encoded data removed]"
          },
          "metadata": {}
        },
        {
          "output_type": "display_data",
          "data": {
            "text/plain": [
              "<Figure size 432x288 with 1 Axes>"
            ],
            "image/png": "[encoded data removed]"
          },
          "metadata": {}
        },
        {
          "output_type": "display_data",
          "data": {
            "text/plain": [
              "<Figure size 432x288 with 1 Axes>"
            ],
            "image/png": "[encoded data removed]"
          },
          "metadata": {}
        },
        {
          "output_type": "display_data",
          "data": {
            "text/plain": [
              "<Figure size 432x288 with 1 Axes>"
            ],
            "image/png": "[encoded data removed]"
          },
          "metadata": {}
        },
        {
          "output_type": "display_data",
          "data": {
            "text/plain": [
              "<Figure size 432x288 with 1 Axes>"
            ],
            "image/png": "[encoded data removed]"
          },
          "metadata": {}
        },
        {
          "output_type": "display_data",
          "data": {
            "text/plain": [
              "<Figure size 432x288 with 1 Axes>"
            ],
            "image/png": "[encoded data removed]"
          },
          "metadata": {}
        },
        {
          "output_type": "display_data",
          "data": {
            "text/plain": [
              "<Figure size 432x288 with 1 Axes>"
            ],
            "image/png": "[encoded data removed]"
          },
          "metadata": {}
        },
        {
          "output_type": "display_data",
          "data": {
            "text/plain": [
              "<Figure size 432x288 with 1 Axes>"
            ],
            "image/png": "[encoded data removed]"
          },
          "metadata": {}
        }
      ]
    },
    {
      "cell_type": "markdown",
      "source": [
        "#### Find out the top performing sector (Agriculture, Industry and Others) in the country"
      ],
      "metadata": {
        "id": "P2tEmIVdbfcO"
      }
    },
    {
      "cell_type": "markdown",
      "source": [
        "- we are using the `idxmax` to getting the max GDP sector column name"
      ],
      "metadata": {
        "id": "_gO7yZz09hn8"
      }
    },
    {
      "cell_type": "code",
      "source": [
        "df['Top Performing Sector'] = df[['Agriculture GDP', 'Industry', 'Services']].idxmax(axis=1)\n"
      ],
      "metadata": {
        "id": "yhPSmLcNbe7N"
      },
      "execution_count": 365,
      "outputs": []
    },
    {
      "cell_type": "code",
      "source": [
        "df['Top Performing Sector GDP']=df[['Agriculture GDP', 'Industry', 'Services']].max(axis=1)"
      ],
      "metadata": {
        "id": "__OgE7Y0AllW"
      },
      "execution_count": 366,
      "outputs": []
    },
    {
      "cell_type": "markdown",
      "source": [
        "#### Find out the relation between top performing sector for a country and it's GDP Rank."
      ],
      "metadata": {
        "id": "cfhqVlJ4bW2V"
      }
    },
    {
      "cell_type": "markdown",
      "source": [
        "- with the below data we can find out those country have top performing sector as an Agriculture GDP has a lower GDP rank then other 2 because the rank mean is the highest--`166.75`\n",
        "\n",
        "- And on the 2nd there is industry sector's country with the average mean-- `111`\n",
        "\n",
        "- Services is the top performing sector with the avrage mean--`109.15`\n",
        "\n",
        "`Concusion:- Those country who's top performing sector Services has the lower Rank in GDP.\n",
        "`"
      ],
      "metadata": {
        "id": "Pok5-6qvCv0T"
      }
    },
    {
      "cell_type": "code",
      "source": [
        "df.groupby('Top Performing Sector')[['Top Performing Sector GDP','Rank']].mean()"
      ],
      "metadata": {
        "colab": {
          "base_uri": "https://localhost:8080/",
          "height": 175
        },
        "id": "F07zOxAGQ3jC",
        "outputId": "c5437799-de7f-4c2c-90f9-aec3bb534d3d"
      },
      "execution_count": 368,
      "outputs": [
        {
          "output_type": "execute_result",
          "data": {
            "text/plain": [
              "                       Top Performing Sector GDP        Rank\n",
              "Top Performing Sector                                       \n",
              "Agriculture GDP                      2871.125000  166.750000\n",
              "Industry                            36657.800000  111.000000\n",
              "Services                           273346.623711  109.149485"
            ],
            "text/html": [
              "\n",
              "  <div id=\"df-640ac067-df1d-43bd-9bd6-7037fa94028f\">\n",
              "    <div class=\"colab-df-container\">\n",
              "      <div>\n",
              "<style scoped>\n",
              "    .dataframe tbody tr th:only-of-type {\n",
              "        vertical-align: middle;\n",
              "    }\n",
              "\n",
              "    .dataframe tbody tr th {\n",
              "        vertical-align: top;\n",
              "    }\n",
              "\n",
              "    .dataframe thead th {\n",
              "        text-align: right;\n",
              "    }\n",
              "</style>\n",
              "<table border=\"1\" class=\"dataframe\">\n",
              "  <thead>\n",
              "    <tr style=\"text-align: right;\">\n",
              "      <th></th>\n",
              "      <th>Top Performing Sector GDP</th>\n",
              "      <th>Rank</th>\n",
              "    </tr>\n",
              "    <tr>\n",
              "      <th>Top Performing Sector</th>\n",
              "      <th></th>\n",
              "      <th></th>\n",
              "    </tr>\n",
              "  </thead>\n",
              "  <tbody>\n",
              "    <tr>\n",
              "      <th>Agriculture GDP</th>\n",
              "      <td>2871.125000</td>\n",
              "      <td>166.750000</td>\n",
              "    </tr>\n",
              "    <tr>\n",
              "      <th>Industry</th>\n",
              "      <td>36657.800000</td>\n",
              "      <td>111.000000</td>\n",
              "    </tr>\n",
              "    <tr>\n",
              "      <th>Services</th>\n",
              "      <td>273346.623711</td>\n",
              "      <td>109.149485</td>\n",
              "    </tr>\n",
              "  </tbody>\n",
              "</table>\n",
              "</div>\n",
              "      <button class=\"colab-df-convert\" onclick=\"convertToInteractive('df-640ac067-df1d-43bd-9bd6-7037fa94028f')\"\n",
              "              title=\"Convert this dataframe to an interactive table.\"\n",
              "              style=\"display:none;\">\n",
              "        \n",
              "  <svg xmlns=\"http://www.w3.org/2000/svg\" height=\"24px\"viewBox=\"0 0 24 24\"\n",
              "       width=\"24px\">\n",
              "    <path d=\"M0 0h24v24H0V0z\" fill=\"none\"/>\n",
              "    <path d=\"M18.56 5.44l.94 2.06.94-2.06 2.06-.94-2.06-.94-.94-2.06-.94 2.06-2.06.94zm-11 1L8.5 8.5l.94-2.06 2.06-.94-2.06-.94L8.5 2.5l-.94 2.06-2.06.94zm10 10l.94 2.06.94-2.06 2.06-.94-2.06-.94-.94-2.06-.94 2.06-2.06.94z\"/><path d=\"M17.41 7.96l-1.37-1.37c-.4-.4-.92-.59-1.43-.59-.52 0-1.04.2-1.43.59L10.3 9.45l-7.72 7.72c-.78.78-.78 2.05 0 2.83L4 21.41c.39.39.9.59 1.41.59.51 0 1.02-.2 1.41-.59l7.78-7.78 2.81-2.81c.8-.78.8-2.07 0-2.86zM5.41 20L4 18.59l7.72-7.72 1.47 1.35L5.41 20z\"/>\n",
              "  </svg>\n",
              "      </button>\n",
              "      \n",
              "  <style>\n",
              "    .colab-df-container {\n",
              "      display:flex;\n",
              "      flex-wrap:wrap;\n",
              "      gap: 12px;\n",
              "    }\n",
              "\n",
              "    .colab-df-convert {\n",
              "      background-color: #E8F0FE;\n",
              "      border: none;\n",
              "      border-radius: 50%;\n",
              "      cursor: pointer;\n",
              "      display: none;\n",
              "      fill: #1967D2;\n",
              "      height: 32px;\n",
              "      padding: 0 0 0 0;\n",
              "      width: 32px;\n",
              "    }\n",
              "\n",
              "    .colab-df-convert:hover {\n",
              "      background-color: #E2EBFA;\n",
              "      box-shadow: 0px 1px 2px rgba(60, 64, 67, 0.3), 0px 1px 3px 1px rgba(60, 64, 67, 0.15);\n",
              "      fill: #174EA6;\n",
              "    }\n",
              "\n",
              "    [theme=dark] .colab-df-convert {\n",
              "      background-color: #3B4455;\n",
              "      fill: #D2E3FC;\n",
              "    }\n",
              "\n",
              "    [theme=dark] .colab-df-convert:hover {\n",
              "      background-color: #434B5C;\n",
              "      box-shadow: 0px 1px 3px 1px rgba(0, 0, 0, 0.15);\n",
              "      filter: drop-shadow(0px 1px 2px rgba(0, 0, 0, 0.3));\n",
              "      fill: #FFFFFF;\n",
              "    }\n",
              "  </style>\n",
              "\n",
              "      <script>\n",
              "        const buttonEl =\n",
              "          document.querySelector('#df-640ac067-df1d-43bd-9bd6-7037fa94028f button.colab-df-convert');\n",
              "        buttonEl.style.display =\n",
              "          google.colab.kernel.accessAllowed ? 'block' : 'none';\n",
              "\n",
              "        async function convertToInteractive(key) {\n",
              "          const element = document.querySelector('#df-640ac067-df1d-43bd-9bd6-7037fa94028f');\n",
              "          const dataTable =\n",
              "            await google.colab.kernel.invokeFunction('convertToInteractive',\n",
              "                                                     [key], {});\n",
              "          if (!dataTable) return;\n",
              "\n",
              "          const docLinkHtml = 'Like what you see? Visit the ' +\n",
              "            '<a target=\"_blank\" href=https://colab.research.google.com/notebooks/data_table.ipynb>data table notebook</a>'\n",
              "            + ' to learn more about interactive tables.';\n",
              "          element.innerHTML = '';\n",
              "          dataTable['output_type'] = 'display_data';\n",
              "          await google.colab.output.renderOutput(dataTable, element);\n",
              "          const docLink = document.createElement('div');\n",
              "          docLink.innerHTML = docLinkHtml;\n",
              "          element.appendChild(docLink);\n",
              "        }\n",
              "      </script>\n",
              "    </div>\n",
              "  </div>\n",
              "  "
            ]
          },
          "metadata": {},
          "execution_count": 368
        }
      ]
    },
    {
      "cell_type": "markdown",
      "source": [
        "- As we have observe there is inversely proportional relationship between rank and Top performing sector GDP as you can see below heatmap chart "
      ],
      "metadata": {
        "id": "bS7vX_TRUc4K"
      }
    },
    {
      "cell_type": "code",
      "source": [
        "sns.heatmap(df.groupby('Top Performing Sector')[['Top Performing Sector GDP','Rank']].mean().corr(),annot=True)"
      ],
      "metadata": {
        "colab": {
          "base_uri": "https://localhost:8080/",
          "height": 323
        },
        "id": "J3yV4enuRlaV",
        "outputId": "68ba0bdd-395b-46c2-bf71-f86260e085e7"
      },
      "execution_count": 369,
      "outputs": [
        {
          "output_type": "execute_result",
          "data": {
            "text/plain": [
              "<Axes: >"
            ]
          },
          "metadata": {},
          "execution_count": 369
        },
        {
          "output_type": "display_data",
          "data": {
            "text/plain": [
              "<Figure size 432x288 with 2 Axes>"
            ],
            "image/png": "[encoded data removed]"
          },
          "metadata": {}
        }
      ]
    },
    {
      "cell_type": "markdown",
      "source": [
        "#### Use a library like pycountry and find out continent wise Top performing Sector"
      ],
      "metadata": {
        "id": "g1tNgVUub6F_"
      }
    },
    {
      "cell_type": "markdown",
      "source": [
        "- installing the pycountry_convert lib\n",
        "- There are some noise in the country column fixed that\n",
        "-Creating the function to get the continents for the country "
      ],
      "metadata": {
        "id": "QkUeQmYmuWCu"
      }
    },
    {
      "cell_type": "code",
      "source": [
        "!pip install pycountry-convert"
      ],
      "metadata": {
        "id": "taqL9cf-b5j-",
        "colab": {
          "base_uri": "https://localhost:8080/"
        },
        "outputId": "5184581d-7cee-4b23-af21-db0cb359085a"
      },
      "execution_count": 370,
      "outputs": [
        {
          "output_type": "stream",
          "name": "stdout",
          "text": [
            "Looking in indexes: https://pypi.org/simple, https://us-python.pkg.dev/colab-wheels/public/simple/\n",
            "Requirement already satisfied: pycountry-convert in /usr/local/lib/python3.9/dist-packages (0.7.2)\n",
            "Requirement already satisfied: pprintpp>=0.3.0 in /usr/local/lib/python3.9/dist-packages (from pycountry-convert) (0.4.0)\n",
            "Requirement already satisfied: pytest-mock>=1.6.3 in /usr/local/lib/python3.9/dist-packages (from pycountry-convert) (3.10.0)\n",
            "Requirement already satisfied: wheel>=0.30.0 in /usr/local/lib/python3.9/dist-packages (from pycountry-convert) (0.40.0)\n",
            "Requirement already satisfied: repoze.lru>=0.7 in /usr/local/lib/python3.9/dist-packages (from pycountry-convert) (0.7)\n",
            "Requirement already satisfied: pytest-cov>=2.5.1 in /usr/local/lib/python3.9/dist-packages (from pycountry-convert) (4.0.0)\n",
            "Requirement already satisfied: pytest>=3.4.0 in /usr/local/lib/python3.9/dist-packages (from pycountry-convert) (7.2.2)\n",
            "Requirement already satisfied: pycountry>=16.11.27.1 in /usr/local/lib/python3.9/dist-packages (from pycountry-convert) (22.3.5)\n",
            "Requirement already satisfied: setuptools in /usr/local/lib/python3.9/dist-packages (from pycountry>=16.11.27.1->pycountry-convert) (67.6.0)\n",
            "Requirement already satisfied: tomli>=1.0.0 in /usr/local/lib/python3.9/dist-packages (from pytest>=3.4.0->pycountry-convert) (2.0.1)\n",
            "Requirement already satisfied: pluggy<2.0,>=0.12 in /usr/local/lib/python3.9/dist-packages (from pytest>=3.4.0->pycountry-convert) (1.0.0)\n",
            "Requirement already satisfied: attrs>=19.2.0 in /usr/local/lib/python3.9/dist-packages (from pytest>=3.4.0->pycountry-convert) (22.2.0)\n",
            "Requirement already satisfied: iniconfig in /usr/local/lib/python3.9/dist-packages (from pytest>=3.4.0->pycountry-convert) (2.0.0)\n",
            "Requirement already satisfied: exceptiongroup>=1.0.0rc8 in /usr/local/lib/python3.9/dist-packages (from pytest>=3.4.0->pycountry-convert) (1.1.1)\n",
            "Requirement already satisfied: packaging in /usr/local/lib/python3.9/dist-packages (from pytest>=3.4.0->pycountry-convert) (23.0)\n",
            "Requirement already satisfied: coverage[toml]>=5.2.1 in /usr/local/lib/python3.9/dist-packages (from pytest-cov>=2.5.1->pycountry-convert) (7.2.2)\n"
          ]
        }
      ]
    },
    {
      "cell_type": "code",
      "source": [
        "df['Country/Economy']=df['Country/Economy'].str.replace('Burma','Myanmar')\n",
        "df['Country/Economy']=df['Country/Economy'].str.replace(\"Cote d'Ivoire\",'Ivory Coast')\n",
        "df['Country/Economy']=df['Country/Economy'].str.replace('West Bank','Palestine')\n",
        "df['Country/Economy']=df['Country/Economy'].str.replace('The Bahamas','Bahamas')"
      ],
      "metadata": {
        "id": "dnzWv35ehRzW"
      },
      "execution_count": 371,
      "outputs": []
    },
    {
      "cell_type": "code",
      "source": [
        "import pycountry_convert as pc\n",
        "def get_continent_name(name):\n",
        "    try:\n",
        "        alpha2_code = pc.country_name_to_country_alpha2(name)\n",
        "        continent_code = pc.country_alpha2_to_continent_code(alpha2_code)\n",
        "        continent_name = pc.convert_continent_code_to_continent_name(continent_code)\n",
        "        return continent_name\n",
        "    except KeyError:\n",
        "        return pd.NA"
      ],
      "metadata": {
        "id": "IcFtQhwnRzRi"
      },
      "execution_count": 372,
      "outputs": []
    },
    {
      "cell_type": "code",
      "source": [
        "df['continent'] = df['Country/Economy'].apply(get_continent_name)"
      ],
      "metadata": {
        "id": "1swBmOq4soQr"
      },
      "execution_count": 373,
      "outputs": []
    },
    {
      "cell_type": "markdown",
      "source": [
        "- Because of pycountry_convert do not have the data of these countrys\n",
        "- because of some are controvalsial, some are new ect.\n",
        "- pycountry_convert wrapper around the ISO standard using the pkg-isocodes database from Debian so not going to update untill data base is updated.\n",
        "- So, decided to replace all the null value manually"
      ],
      "metadata": {
        "id": "UMeETwWjv-xH"
      }
    },
    {
      "cell_type": "code",
      "source": [
        "mis_con=['Europe','North America','North America','Asia','Asia','Africa','North America']\n",
        "df['continent'] = df['continent'].fillna(pd.Series(mis_con))\n"
      ],
      "metadata": {
        "id": "sRbkHZjcoEod"
      },
      "execution_count": 374,
      "outputs": []
    },
    {
      "cell_type": "markdown",
      "source": [
        "- In the below cell we can see Top performing sector GDP and Rank continent wise"
      ],
      "metadata": {
        "id": "9gV-Qf8hdX6p"
      }
    },
    {
      "cell_type": "code",
      "source": [
        "df.groupby('continent')[['Top Performing Sector GDP','Rank']].mean()"
      ],
      "metadata": {
        "colab": {
          "base_uri": "https://localhost:8080/",
          "height": 269
        },
        "id": "MLKM1hilYdYu",
        "outputId": "e4af52d5-7dca-4fd6-f9f6-cd261fae1fee"
      },
      "execution_count": 375,
      "outputs": [
        {
          "output_type": "execute_result",
          "data": {
            "text/plain": [
              "               Top Performing Sector GDP        Rank\n",
              "continent                                           \n",
              "Africa                      24395.076923  128.538462\n",
              "Asia                       341931.916667   75.562500\n",
              "Europe                     311331.130435   79.282609\n",
              "North America              556473.093750  139.062500\n",
              "Oceania                     57259.450000  181.400000\n",
              "South America              219092.000000   74.166667"
            ],
            "text/html": [
              "\n",
              "  <div id=\"df-fd6fde28-ba65-40bd-9b71-9c1febb4fdc8\">\n",
              "    <div class=\"colab-df-container\">\n",
              "      <div>\n",
              "<style scoped>\n",
              "    .dataframe tbody tr th:only-of-type {\n",
              "        vertical-align: middle;\n",
              "    }\n",
              "\n",
              "    .dataframe tbody tr th {\n",
              "        vertical-align: top;\n",
              "    }\n",
              "\n",
              "    .dataframe thead th {\n",
              "        text-align: right;\n",
              "    }\n",
              "</style>\n",
              "<table border=\"1\" class=\"dataframe\">\n",
              "  <thead>\n",
              "    <tr style=\"text-align: right;\">\n",
              "      <th></th>\n",
              "      <th>Top Performing Sector GDP</th>\n",
              "      <th>Rank</th>\n",
              "    </tr>\n",
              "    <tr>\n",
              "      <th>continent</th>\n",
              "      <th></th>\n",
              "      <th></th>\n",
              "    </tr>\n",
              "  </thead>\n",
              "  <tbody>\n",
              "    <tr>\n",
              "      <th>Africa</th>\n",
              "      <td>24395.076923</td>\n",
              "      <td>128.538462</td>\n",
              "    </tr>\n",
              "    <tr>\n",
              "      <th>Asia</th>\n",
              "      <td>341931.916667</td>\n",
              "      <td>75.562500</td>\n",
              "    </tr>\n",
              "    <tr>\n",
              "      <th>Europe</th>\n",
              "      <td>311331.130435</td>\n",
              "      <td>79.282609</td>\n",
              "    </tr>\n",
              "    <tr>\n",
              "      <th>North America</th>\n",
              "      <td>556473.093750</td>\n",
              "      <td>139.062500</td>\n",
              "    </tr>\n",
              "    <tr>\n",
              "      <th>Oceania</th>\n",
              "      <td>57259.450000</td>\n",
              "      <td>181.400000</td>\n",
              "    </tr>\n",
              "    <tr>\n",
              "      <th>South America</th>\n",
              "      <td>219092.000000</td>\n",
              "      <td>74.166667</td>\n",
              "    </tr>\n",
              "  </tbody>\n",
              "</table>\n",
              "</div>\n",
              "      <button class=\"colab-df-convert\" onclick=\"convertToInteractive('df-fd6fde28-ba65-40bd-9b71-9c1febb4fdc8')\"\n",
              "              title=\"Convert this dataframe to an interactive table.\"\n",
              "              style=\"display:none;\">\n",
              "        \n",
              "  <svg xmlns=\"http://www.w3.org/2000/svg\" height=\"24px\"viewBox=\"0 0 24 24\"\n",
              "       width=\"24px\">\n",
              "    <path d=\"M0 0h24v24H0V0z\" fill=\"none\"/>\n",
              "    <path d=\"M18.56 5.44l.94 2.06.94-2.06 2.06-.94-2.06-.94-.94-2.06-.94 2.06-2.06.94zm-11 1L8.5 8.5l.94-2.06 2.06-.94-2.06-.94L8.5 2.5l-.94 2.06-2.06.94zm10 10l.94 2.06.94-2.06 2.06-.94-2.06-.94-.94-2.06-.94 2.06-2.06.94z\"/><path d=\"M17.41 7.96l-1.37-1.37c-.4-.4-.92-.59-1.43-.59-.52 0-1.04.2-1.43.59L10.3 9.45l-7.72 7.72c-.78.78-.78 2.05 0 2.83L4 21.41c.39.39.9.59 1.41.59.51 0 1.02-.2 1.41-.59l7.78-7.78 2.81-2.81c.8-.78.8-2.07 0-2.86zM5.41 20L4 18.59l7.72-7.72 1.47 1.35L5.41 20z\"/>\n",
              "  </svg>\n",
              "      </button>\n",
              "      \n",
              "  <style>\n",
              "    .colab-df-container {\n",
              "      display:flex;\n",
              "      flex-wrap:wrap;\n",
              "      gap: 12px;\n",
              "    }\n",
              "\n",
              "    .colab-df-convert {\n",
              "      background-color: #E8F0FE;\n",
              "      border: none;\n",
              "      border-radius: 50%;\n",
              "      cursor: pointer;\n",
              "      display: none;\n",
              "      fill: #1967D2;\n",
              "      height: 32px;\n",
              "      padding: 0 0 0 0;\n",
              "      width: 32px;\n",
              "    }\n",
              "\n",
              "    .colab-df-convert:hover {\n",
              "      background-color: #E2EBFA;\n",
              "      box-shadow: 0px 1px 2px rgba(60, 64, 67, 0.3), 0px 1px 3px 1px rgba(60, 64, 67, 0.15);\n",
              "      fill: #174EA6;\n",
              "    }\n",
              "\n",
              "    [theme=dark] .colab-df-convert {\n",
              "      background-color: #3B4455;\n",
              "      fill: #D2E3FC;\n",
              "    }\n",
              "\n",
              "    [theme=dark] .colab-df-convert:hover {\n",
              "      background-color: #434B5C;\n",
              "      box-shadow: 0px 1px 3px 1px rgba(0, 0, 0, 0.15);\n",
              "      filter: drop-shadow(0px 1px 2px rgba(0, 0, 0, 0.3));\n",
              "      fill: #FFFFFF;\n",
              "    }\n",
              "  </style>\n",
              "\n",
              "      <script>\n",
              "        const buttonEl =\n",
              "          document.querySelector('#df-fd6fde28-ba65-40bd-9b71-9c1febb4fdc8 button.colab-df-convert');\n",
              "        buttonEl.style.display =\n",
              "          google.colab.kernel.accessAllowed ? 'block' : 'none';\n",
              "\n",
              "        async function convertToInteractive(key) {\n",
              "          const element = document.querySelector('#df-fd6fde28-ba65-40bd-9b71-9c1febb4fdc8');\n",
              "          const dataTable =\n",
              "            await google.colab.kernel.invokeFunction('convertToInteractive',\n",
              "                                                     [key], {});\n",
              "          if (!dataTable) return;\n",
              "\n",
              "          const docLinkHtml = 'Like what you see? Visit the ' +\n",
              "            '<a target=\"_blank\" href=https://colab.research.google.com/notebooks/data_table.ipynb>data table notebook</a>'\n",
              "            + ' to learn more about interactive tables.';\n",
              "          element.innerHTML = '';\n",
              "          dataTable['output_type'] = 'display_data';\n",
              "          await google.colab.output.renderOutput(dataTable, element);\n",
              "          const docLink = document.createElement('div');\n",
              "          docLink.innerHTML = docLinkHtml;\n",
              "          element.appendChild(docLink);\n",
              "        }\n",
              "      </script>\n",
              "    </div>\n",
              "  </div>\n",
              "  "
            ]
          },
          "metadata": {},
          "execution_count": 375
        }
      ]
    },
    {
      "cell_type": "markdown",
      "source": [
        "- In the below cell we can see there is negative relationship between Top Performing Sector GDP and Rank with each continent"
      ],
      "metadata": {
        "id": "E6VGTYv_jkZQ"
      }
    },
    {
      "cell_type": "code",
      "source": [
        "sns.heatmap(df.groupby('continent')[['Top Performing Sector GDP','Rank']].mean().corr(),annot=True, cmap='coolwarm', linewidths=1, linecolor='black')"
      ],
      "metadata": {
        "colab": {
          "base_uri": "https://localhost:8080/",
          "height": 323
        },
        "id": "Hws5cKKhc6Mj",
        "outputId": "0087f7ed-437a-4be7-f587-b62cf0d6a3ee"
      },
      "execution_count": 376,
      "outputs": [
        {
          "output_type": "execute_result",
          "data": {
            "text/plain": [
              "<Axes: >"
            ]
          },
          "metadata": {},
          "execution_count": 376
        },
        {
          "output_type": "display_data",
          "data": {
            "text/plain": [
              "<Figure size 432x288 with 2 Axes>"
            ],
            "image/png": "[encoded data removed]"
          },
          "metadata": {}
        }
      ]
    },
    {
      "cell_type": "markdown",
      "source": [
        "#### Identify continent and their average GDP, Top Performing Sector and percentage of contribution by other sectors. Explain the outcome"
      ],
      "metadata": {
        "id": "HMQfNYIvaMqn"
      }
    },
    {
      "cell_type": "markdown",
      "source": [
        "- with this we can observe that Services are the leader GDP sector in each continent we can also se the percentage contribution with is more than `50%` in each case\n",
        "-- In this we find out the `mean` of `total GDP` and `MAX_sector_GDP` for each continent\n",
        "-- then we canculate the percentage of contribution of `MAX_sector_GDP` with in entrire GDP continent wise\n",
        "\n",
        "\n",
        "\n"
      ],
      "metadata": {
        "id": "HMZtvVtd20xO"
      }
    },
    {
      "cell_type": "code",
      "source": [
        "df1 = df.groupby(['continent']).agg({'Top Performing Sector GDP': 'mean', \n",
        "                                      'GDP (millions of $)': 'mean',\n",
        "                                      'Top Performing Sector': lambda x: x.iloc[0]})\n",
        "df1['% of contribution']=round(df.groupby(['continent'])['Top Performing Sector GDP'].mean()/df.groupby('continent')['GDP (millions of $)'].mean()*100,2)\n",
        "df1"
      ],
      "metadata": {
        "colab": {
          "base_uri": "https://localhost:8080/",
          "height": 269
        },
        "id": "vPnjtLcS1r6w",
        "outputId": "89946e53-0845-425b-b19f-9cb28fa8bfa4"
      },
      "execution_count": 377,
      "outputs": [
        {
          "output_type": "execute_result",
          "data": {
            "text/plain": [
              "               Top Performing Sector GDP  GDP (millions of $)  \\\n",
              "continent                                                       \n",
              "Africa                      24395.076923         42494.057692   \n",
              "Asia                       341931.916667        594040.041667   \n",
              "Europe                     311331.130435        433462.239130   \n",
              "North America              556473.093750        710856.937500   \n",
              "Oceania                     57259.450000         81870.950000   \n",
              "South America              219092.000000        327660.500000   \n",
              "\n",
              "              Top Performing Sector  % of contribution  \n",
              "continent                                               \n",
              "Africa                     Services              57.41  \n",
              "Asia                       Services              57.56  \n",
              "Europe                     Services              71.82  \n",
              "North America              Services              78.28  \n",
              "Oceania                    Services              69.94  \n",
              "South America              Services              66.87  "
            ],
            "text/html": [
              "\n",
              "  <div id=\"df-8e2db1d7-9736-4d2e-bc2d-8079a6c62623\">\n",
              "    <div class=\"colab-df-container\">\n",
              "      <div>\n",
              "<style scoped>\n",
              "    .dataframe tbody tr th:only-of-type {\n",
              "        vertical-align: middle;\n",
              "    }\n",
              "\n",
              "    .dataframe tbody tr th {\n",
              "        vertical-align: top;\n",
              "    }\n",
              "\n",
              "    .dataframe thead th {\n",
              "        text-align: right;\n",
              "    }\n",
              "</style>\n",
              "<table border=\"1\" class=\"dataframe\">\n",
              "  <thead>\n",
              "    <tr style=\"text-align: right;\">\n",
              "      <th></th>\n",
              "      <th>Top Performing Sector GDP</th>\n",
              "      <th>GDP (millions of $)</th>\n",
              "      <th>Top Performing Sector</th>\n",
              "      <th>% of contribution</th>\n",
              "    </tr>\n",
              "    <tr>\n",
              "      <th>continent</th>\n",
              "      <th></th>\n",
              "      <th></th>\n",
              "      <th></th>\n",
              "      <th></th>\n",
              "    </tr>\n",
              "  </thead>\n",
              "  <tbody>\n",
              "    <tr>\n",
              "      <th>Africa</th>\n",
              "      <td>24395.076923</td>\n",
              "      <td>42494.057692</td>\n",
              "      <td>Services</td>\n",
              "      <td>57.41</td>\n",
              "    </tr>\n",
              "    <tr>\n",
              "      <th>Asia</th>\n",
              "      <td>341931.916667</td>\n",
              "      <td>594040.041667</td>\n",
              "      <td>Services</td>\n",
              "      <td>57.56</td>\n",
              "    </tr>\n",
              "    <tr>\n",
              "      <th>Europe</th>\n",
              "      <td>311331.130435</td>\n",
              "      <td>433462.239130</td>\n",
              "      <td>Services</td>\n",
              "      <td>71.82</td>\n",
              "    </tr>\n",
              "    <tr>\n",
              "      <th>North America</th>\n",
              "      <td>556473.093750</td>\n",
              "      <td>710856.937500</td>\n",
              "      <td>Services</td>\n",
              "      <td>78.28</td>\n",
              "    </tr>\n",
              "    <tr>\n",
              "      <th>Oceania</th>\n",
              "      <td>57259.450000</td>\n",
              "      <td>81870.950000</td>\n",
              "      <td>Services</td>\n",
              "      <td>69.94</td>\n",
              "    </tr>\n",
              "    <tr>\n",
              "      <th>South America</th>\n",
              "      <td>219092.000000</td>\n",
              "      <td>327660.500000</td>\n",
              "      <td>Services</td>\n",
              "      <td>66.87</td>\n",
              "    </tr>\n",
              "  </tbody>\n",
              "</table>\n",
              "</div>\n",
              "      <button class=\"colab-df-convert\" onclick=\"convertToInteractive('df-8e2db1d7-9736-4d2e-bc2d-8079a6c62623')\"\n",
              "              title=\"Convert this dataframe to an interactive table.\"\n",
              "              style=\"display:none;\">\n",
              "        \n",
              "  <svg xmlns=\"http://www.w3.org/2000/svg\" height=\"24px\"viewBox=\"0 0 24 24\"\n",
              "       width=\"24px\">\n",
              "    <path d=\"M0 0h24v24H0V0z\" fill=\"none\"/>\n",
              "    <path d=\"M18.56 5.44l.94 2.06.94-2.06 2.06-.94-2.06-.94-.94-2.06-.94 2.06-2.06.94zm-11 1L8.5 8.5l.94-2.06 2.06-.94-2.06-.94L8.5 2.5l-.94 2.06-2.06.94zm10 10l.94 2.06.94-2.06 2.06-.94-2.06-.94-.94-2.06-.94 2.06-2.06.94z\"/><path d=\"M17.41 7.96l-1.37-1.37c-.4-.4-.92-.59-1.43-.59-.52 0-1.04.2-1.43.59L10.3 9.45l-7.72 7.72c-.78.78-.78 2.05 0 2.83L4 21.41c.39.39.9.59 1.41.59.51 0 1.02-.2 1.41-.59l7.78-7.78 2.81-2.81c.8-.78.8-2.07 0-2.86zM5.41 20L4 18.59l7.72-7.72 1.47 1.35L5.41 20z\"/>\n",
              "  </svg>\n",
              "      </button>\n",
              "      \n",
              "  <style>\n",
              "    .colab-df-container {\n",
              "      display:flex;\n",
              "      flex-wrap:wrap;\n",
              "      gap: 12px;\n",
              "    }\n",
              "\n",
              "    .colab-df-convert {\n",
              "      background-color: #E8F0FE;\n",
              "      border: none;\n",
              "      border-radius: 50%;\n",
              "      cursor: pointer;\n",
              "      display: none;\n",
              "      fill: #1967D2;\n",
              "      height: 32px;\n",
              "      padding: 0 0 0 0;\n",
              "      width: 32px;\n",
              "    }\n",
              "\n",
              "    .colab-df-convert:hover {\n",
              "      background-color: #E2EBFA;\n",
              "      box-shadow: 0px 1px 2px rgba(60, 64, 67, 0.3), 0px 1px 3px 1px rgba(60, 64, 67, 0.15);\n",
              "      fill: #174EA6;\n",
              "    }\n",
              "\n",
              "    [theme=dark] .colab-df-convert {\n",
              "      background-color: #3B4455;\n",
              "      fill: #D2E3FC;\n",
              "    }\n",
              "\n",
              "    [theme=dark] .colab-df-convert:hover {\n",
              "      background-color: #434B5C;\n",
              "      box-shadow: 0px 1px 3px 1px rgba(0, 0, 0, 0.15);\n",
              "      filter: drop-shadow(0px 1px 2px rgba(0, 0, 0, 0.3));\n",
              "      fill: #FFFFFF;\n",
              "    }\n",
              "  </style>\n",
              "\n",
              "      <script>\n",
              "        const buttonEl =\n",
              "          document.querySelector('#df-8e2db1d7-9736-4d2e-bc2d-8079a6c62623 button.colab-df-convert');\n",
              "        buttonEl.style.display =\n",
              "          google.colab.kernel.accessAllowed ? 'block' : 'none';\n",
              "\n",
              "        async function convertToInteractive(key) {\n",
              "          const element = document.querySelector('#df-8e2db1d7-9736-4d2e-bc2d-8079a6c62623');\n",
              "          const dataTable =\n",
              "            await google.colab.kernel.invokeFunction('convertToInteractive',\n",
              "                                                     [key], {});\n",
              "          if (!dataTable) return;\n",
              "\n",
              "          const docLinkHtml = 'Like what you see? Visit the ' +\n",
              "            '<a target=\"_blank\" href=https://colab.research.google.com/notebooks/data_table.ipynb>data table notebook</a>'\n",
              "            + ' to learn more about interactive tables.';\n",
              "          element.innerHTML = '';\n",
              "          dataTable['output_type'] = 'display_data';\n",
              "          await google.colab.output.renderOutput(dataTable, element);\n",
              "          const docLink = document.createElement('div');\n",
              "          docLink.innerHTML = docLinkHtml;\n",
              "          element.appendChild(docLink);\n",
              "        }\n",
              "      </script>\n",
              "    </div>\n",
              "  </div>\n",
              "  "
            ]
          },
          "metadata": {},
          "execution_count": 377
        }
      ]
    },
    {
      "cell_type": "code",
      "source": [
        "corr = df1.corr()\n",
        "\n",
        "sns.set(font_scale=1.2)\n",
        "sns.heatmap(corr, annot=True, cmap='coolwarm', linewidths=1, linecolor='black')\n",
        "\n",
        "plt.title(\"Correlation Heatmap\", fontsize=18)\n",
        "\n",
        "plt.xticks(rotation=45)\n",
        "plt.yticks(rotation=0)\n",
        "\n",
        "plt.show()\n"
      ],
      "metadata": {
        "colab": {
          "base_uri": "https://localhost:8080/",
          "height": 414
        },
        "id": "wKoesbZCl3R0",
        "outputId": "2643b4bd-97e5-4c1b-a1ee-8a72ddb2a1c9"
      },
      "execution_count": 378,
      "outputs": [
        {
          "output_type": "display_data",
          "data": {
            "text/plain": [
              "<Figure size 432x288 with 2 Axes>"
            ],
            "image/png": "[encoded data removed]"
          },
          "metadata": {}
        }
      ]
    },
    {
      "cell_type": "markdown",
      "source": [
        "## Add the Cells below and Find out more underlying Trends from the dataset (***Bonus Points***)\n",
        "- Make sure to write your hypothesis and test based on it\n",
        "- if hypothesis is not correct, explain what could be the reason"
      ],
      "metadata": {
        "id": "f46Ld28GciYR"
      }
    },
    {
      "cell_type": "markdown",
      "source": [
        "- In the below we findout the top 10 company with highest GDP"
      ],
      "metadata": {
        "id": "ccCsjCwr7yZJ"
      }
    },
    {
      "cell_type": "code",
      "source": [
        "top_10_gdp = df.nlargest(10, 'GDP (millions of $)')\n",
        "\n",
        "plt.figure(figsize=(12,8))\n",
        "sns.barplot(data=top_10_gdp, y='Country/Economy', x='GDP (millions of $)', palette='magma')\n",
        "plt.xlabel('GDP (millions of $)')\n",
        "plt.ylabel('Country/Economy')\n",
        "plt.title('Top 10 Countries with highest GDP')\n",
        "plt.show()"
      ],
      "metadata": {
        "id": "v4lZjPwxaesk",
        "colab": {
          "base_uri": "https://localhost:8080/",
          "height": 523
        },
        "outputId": "6d57c7c4-acb2-42be-e160-baf8014997dc"
      },
      "execution_count": 379,
      "outputs": [
        {
          "output_type": "display_data",
          "data": {
            "text/plain": [
              "<Figure size 864x576 with 1 Axes>"
            ],
            "image/png": "[encoded data removed]"
          },
          "metadata": {}
        }
      ]
    },
    {
      "cell_type": "markdown",
      "source": [
        "- In the below we findout the top 10 company with highest Agriculture GDP"
      ],
      "metadata": {
        "id": "nip86vwh--5O"
      }
    },
    {
      "cell_type": "code",
      "source": [
        "top_10_Agriculture_GDP = df.nlargest(10, 'Agriculture GDP')\n",
        "\n",
        "plt.figure(figsize=(12,8))\n",
        "sns.barplot(data=top_10_gdp, y='Country/Economy', x='Agriculture GDP', palette='magma')\n",
        "plt.xlabel('Agriculture GDP')\n",
        "plt.ylabel('Country/Economy')\n",
        "plt.title('Top 10 Countries with highest Agriculture GDP')\n",
        "plt.show()"
      ],
      "metadata": {
        "colab": {
          "base_uri": "https://localhost:8080/",
          "height": 523
        },
        "id": "8YYmoyDo7sZY",
        "outputId": "91dd3d69-dd5d-4f3c-fe93-dc9e6bcfb733"
      },
      "execution_count": 380,
      "outputs": [
        {
          "output_type": "display_data",
          "data": {
            "text/plain": [
              "<Figure size 864x576 with 1 Axes>"
            ],
            "image/png": "[encoded data removed]"
          },
          "metadata": {}
        }
      ]
    },
    {
      "cell_type": "code",
      "source": [
        "top_10_Agriculture_GDP = df.nlargest(10, 'Services')\n",
        "\n",
        "plt.figure(figsize=(12,8))\n",
        "sns.barplot(data=top_10_gdp, y='Country/Economy', x='Services', palette='magma')\n",
        "plt.xlabel('Services GDP')\n",
        "plt.ylabel('Country/Economy')\n",
        "plt.title('Top 10 Countries with highest Services GDP')\n",
        "plt.show()"
      ],
      "metadata": {
        "colab": {
          "base_uri": "https://localhost:8080/",
          "height": 523
        },
        "id": "W1wKv0zU_MNa",
        "outputId": "bb0232a8-6f32-4095-d200-d1ab7773de99"
      },
      "execution_count": 381,
      "outputs": [
        {
          "output_type": "display_data",
          "data": {
            "text/plain": [
              "<Figure size 864x576 with 1 Axes>"
            ],
            "image/png": "[encoded data removed]"
          },
          "metadata": {}
        }
      ]
    },
    {
      "cell_type": "code",
      "source": [
        "top_10_Agriculture_GDP = df.nlargest(10, 'Industry')\n",
        "\n",
        "plt.figure(figsize=(12,8))\n",
        "sns.barplot(data=top_10_gdp, y='Country/Economy', x='Industry', palette='magma')\n",
        "plt.xlabel('Industry GDP')\n",
        "plt.ylabel('Country/Economy')\n",
        "plt.title('Top 10 Countries with highest Industry GDP')\n",
        "plt.show()"
      ],
      "metadata": {
        "colab": {
          "base_uri": "https://localhost:8080/",
          "height": 523
        },
        "id": "OsEO_lKj_xLe",
        "outputId": "227c04c8-fc06-4ab2-89fe-2c6bbb5067cf"
      },
      "execution_count": 382,
      "outputs": [
        {
          "output_type": "display_data",
          "data": {
            "text/plain": [
              "<Figure size 864x576 with 1 Axes>"
            ],
            "image/png": "[encoded data removed]"
          },
          "metadata": {}
        }
      ]
    },
    {
      "cell_type": "markdown",
      "source": [
        "# Write a summery of the Analysis in bullet points in this section **(Mandatory)**"
      ],
      "metadata": {
        "id": "meHhjG3i1GwR"
      }
    },
    {
      "cell_type": "markdown",
      "source": [
        "- First, we observed that some cells had a - instead of a NULL value, so we replaced them with NULL.\n",
        "\n",
        "- We dropped the NULL values since they were not many.\n",
        "\n",
        "- We cleaned the country column by removing any noise.\n",
        "\n",
        "- We replaced the column data type with the correct one.\n",
        "\n",
        "- Outliers analysis showed that the data presented in the columns were correct, but there were outliers that we decided not to remove.\n",
        "\n",
        "- We made two new columns to find the largest GDP sectors - one is categorical, which represents the sector name, and the other represents the sector GDP.\n",
        "\n",
        "- Agriculture sector: The GDP rank of countries with a top-performing agriculture sector is lower than the other two sectors, with a mean rank of 166.75.\n",
        "\n",
        "- Industry sector: The GDP rank of countries with a top-performing industry sector has an average mean of 111.\n",
        "\n",
        "- Services sector: The top-performing sector for countries is services, with an average mean of 109.15.\n",
        "\n",
        "- In conclusion, countries whose top-performing sector is services have a lower GDP rank, and there is a negative relationship between the top-performing sector GDP and rank.\n",
        "\n",
        "- The highest GDP continent is Asia with an average GDP of 341931 and rank of 75.\n",
        "\n",
        "- Services sector is the highest sector in each continent.\n",
        "\n",
        "- The US is the highest GDP nation.\n",
        "\n",
        "- China is the highest GDP nation in the Agriculture sector.\n",
        "\n",
        "- The US is the largest GDP nation in the Services sector.\n",
        "\n",
        "- The US is the largest GDP nation in the Industry sector."
      ],
      "metadata": {
        "id": "19eyoocVBNhI"
      }
    }
  ]
}